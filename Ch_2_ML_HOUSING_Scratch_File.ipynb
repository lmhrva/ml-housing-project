{
<<<<<<< HEAD
<<<<<<< HEAD
 "cells": [
  {
   "cell_type": "markdown",
   "metadata": {
    "colab_type": "text",
    "id": "view-in-github"
   },
   "source": [
    "<a href=\"https://colab.research.google.com/github/lmhrva/ml-housing-project/blob/master/Ch_2_ML_HOUSING_Scratch_File.ipynb\" target=\"_parent\"><img src=\"https://colab.research.google.com/assets/colab-badge.svg\" alt=\"Open In Colab\"/></a>"
   ]
  },
  {
   "cell_type": "markdown",
   "metadata": {
    "id": "cfSes81WLq_1"
   },
   "source": [
    "## This is my scratch notebook for my ML_HOUSING project."
   ]
  },
  {
   "cell_type": "code",
   "execution_count": 1,
   "metadata": {
    "id": "f7jud00nJ1UB"
   },
   "outputs": [],
   "source": [
    "import sklearn\n",
    "assert sklearn.__version__ >= \"0.20\""
   ]
  },
  {
   "cell_type": "code",
   "execution_count": 2,
   "metadata": {
    "id": "UvAIzxJWKuB5"
   },
   "outputs": [],
   "source": [
    "# Common imports\n",
    "import numpy as np\n",
    "import os\n",
    "\n",
    "# To plot pretty figures\n",
    "%matplotlib inline\n",
    "import matplotlib as mpl\n",
    "import matplotlib.pyplot as plt\n",
    "mpl.rc('axes', labelsize=14)\n",
    "mpl.rc('xtick', labelsize=12)\n",
    "mpl.rc('ytick', labelsize=12)"
   ]
  },
  {
   "cell_type": "markdown",
   "metadata": {
    "id": "3FSqQ-rxMWE1"
   },
   "source": [
    "# **Get Data**\n",
    "\n",
    "I'm going to connect to the data for this project in Aurelien Geron's github. I will not add the ability to save the files because this isn't my local computer."
   ]
  },
  {
   "cell_type": "code",
   "execution_count": 3,
   "metadata": {
    "id": "tTIvzslrMMrM"
   },
   "outputs": [],
   "source": [
    "import os\n",
    "import tarfile\n",
    "import urllib.request #2017: from six.moves import urllib\n",
    "\n",
    "DOWNLOAD_ROOT = \"https://raw.githubusercontent.com/ageron/handson-ml2/master/\" #2017: \"...handson-ml/master/\"\n",
    "HOUSING_PATH = os.path.join(\"datasets\", \"housing\")\n",
    "HOUSING_URL = DOWNLOAD_ROOT + \"datasets/housing/housing.tgz\"\n",
    "\n",
    "def fetch_housing_data(housing_url=HOUSING_URL, housing_path=HOUSING_PATH):\n",
    "    if not os.path.isdir(housing_path):\n",
    "        os.makedirs(housing_path)\n",
    "    tgz_path = os.path.join(housing_path, \"housing.tgz\")\n",
    "    urllib.request.urlretrieve(housing_url, tgz_path)\n",
    "    housing_tgz = tarfile.open(tgz_path)\n",
    "    housing_tgz.extractall(path=housing_path)\n",
    "    housing_tgz.close()"
   ]
  },
  {
   "cell_type": "code",
   "execution_count": 4,
   "metadata": {
    "id": "9OOOoi6-MgJX"
   },
   "outputs": [],
   "source": [
    "fetch_housing_data()"
   ]
  },
  {
   "cell_type": "code",
   "execution_count": 5,
   "metadata": {
    "id": "Jtusc5xcMkmA"
   },
   "outputs": [],
   "source": [
    "import pandas as pd\n",
    "\n",
    "def load_housing_data(housing_path=HOUSING_PATH):\n",
    "    csv_path = os.path.join(housing_path, \"housing.csv\")\n",
    "    return pd.read_csv(csv_path)"
   ]
  },
  {
   "cell_type": "code",
   "execution_count": 6,
   "metadata": {
    "colab": {
     "base_uri": "https://localhost:8080/",
     "height": 363
=======
  "nbformat": 4,
  "nbformat_minor": 0,
  "metadata": {
    "colab": {
=======
  "nbformat": 4,
  "nbformat_minor": 0,
  "metadata": {
    "colab": {
>>>>>>> 73846309baea899d7a66be95a13424488ccfe9cc
      "name": "Ch 2: ML_HOUSING Scratch File",
      "provenance": [],
      "collapsed_sections": [],
      "toc_visible": true,
<<<<<<< HEAD
      "authorship_tag": "ABX9TyMaHtnwJVkl2tsFrL0zTZH9",
=======
      "authorship_tag": "ABX9TyO1LFUDijaU4ajFwDpn9xPw",
>>>>>>> 73846309baea899d7a66be95a13424488ccfe9cc
      "include_colab_link": true
    },
    "kernelspec": {
      "name": "python3",
      "display_name": "Python 3"
    },
    "language_info": {
      "name": "python"
    }
  },
  "cells": [
    {
      "cell_type": "markdown",
      "metadata": {
        "id": "view-in-github",
        "colab_type": "text"
      },
      "source": [
        "<a href=\"https://colab.research.google.com/github/lmhrva/ml-housing-project/blob/master/Ch_2_ML_HOUSING_Scratch_File.ipynb\" target=\"_parent\"><img src=\"https://colab.research.google.com/assets/colab-badge.svg\" alt=\"Open In Colab\"/></a>"
      ]
<<<<<<< HEAD
    },
    {
      "cell_type": "markdown",
      "source": [
        "## This is my scratch notebook for my ML_HOUSING project."
      ],
      "metadata": {
        "id": "cfSes81WLq_1"
      }
    },
    {
      "cell_type": "code",
      "execution_count": 22,
      "metadata": {
        "id": "f7jud00nJ1UB"
      },
      "outputs": [],
      "source": [
        "import sklearn\n",
        "assert sklearn.__version__ >= \"0.20\""
      ]
    },
    {
      "cell_type": "code",
      "source": [
        "# Common imports\n",
        "import numpy as np\n",
        "import os\n",
        "\n",
        "# To plot pretty figures\n",
        "%matplotlib inline\n",
        "import matplotlib as mpl\n",
        "import matplotlib.pyplot as plt\n",
        "mpl.rc('axes', labelsize=14)\n",
        "mpl.rc('xtick', labelsize=12)\n",
        "mpl.rc('ytick', labelsize=12)"
      ],
      "metadata": {
        "id": "UvAIzxJWKuB5"
      },
      "execution_count": 23,
      "outputs": []
    },
    {
      "cell_type": "markdown",
      "source": [
        "# **Get Data**\n",
        "\n",
        "I'm going to connect to the data for this project in Aurelien Geron's github. I will not add the ability to save the files because this isn't my local computer."
      ],
      "metadata": {
        "id": "3FSqQ-rxMWE1"
      }
    },
    {
      "cell_type": "code",
      "source": [
        "import os\n",
        "import tarfile\n",
        "import urllib.request #2017: from six.moves import urllib\n",
        "\n",
        "DOWNLOAD_ROOT = \"https://raw.githubusercontent.com/ageron/handson-ml2/master/\" #2017: \"...handson-ml/master/\"\n",
        "HOUSING_PATH = os.path.join(\"datasets\", \"housing\")\n",
        "HOUSING_URL = DOWNLOAD_ROOT + \"datasets/housing/housing.tgz\"\n",
        "\n",
        "def fetch_housing_data(housing_url=HOUSING_URL, housing_path=HOUSING_PATH):\n",
        "    if not os.path.isdir(housing_path):\n",
        "        os.makedirs(housing_path)\n",
        "    tgz_path = os.path.join(housing_path, \"housing.tgz\")\n",
        "    urllib.request.urlretrieve(housing_url, tgz_path)\n",
        "    housing_tgz = tarfile.open(tgz_path)\n",
        "    housing_tgz.extractall(path=housing_path)\n",
        "    housing_tgz.close()"
      ],
      "metadata": {
        "id": "tTIvzslrMMrM"
      },
      "execution_count": 24,
      "outputs": []
    },
    {
      "cell_type": "code",
      "source": [
        "fetch_housing_data()"
      ],
      "metadata": {
        "id": "9OOOoi6-MgJX"
      },
      "execution_count": 25,
      "outputs": []
    },
    {
      "cell_type": "code",
      "source": [
        "import pandas as pd\n",
        "\n",
        "def load_housing_data(housing_path=HOUSING_PATH):\n",
        "    csv_path = os.path.join(housing_path, \"housing.csv\")\n",
        "    return pd.read_csv(csv_path)"
      ],
      "metadata": {
        "id": "Jtusc5xcMkmA"
      },
      "execution_count": 26,
      "outputs": []
    },
    {
      "cell_type": "code",
      "source": [
        "housing = load_housing_data()\n",
        "housing.head(10)"
      ],
      "metadata": {
        "colab": {
          "base_uri": "https://localhost:8080/",
          "height": 363
        },
        "id": "mJeY0wYTMo36",
        "outputId": "93a90309-725f-4663-9c10-ea55351a9ff1"
      },
      "execution_count": 27,
      "outputs": [
        {
          "output_type": "execute_result",
          "data": {
            "text/html": [
              "\n",
              "  <div id=\"df-2ce4c38f-9082-432e-8b0a-68f178369864\">\n",
              "    <div class=\"colab-df-container\">\n",
              "      <div>\n",
              "<style scoped>\n",
              "    .dataframe tbody tr th:only-of-type {\n",
              "        vertical-align: middle;\n",
              "    }\n",
              "\n",
              "    .dataframe tbody tr th {\n",
              "        vertical-align: top;\n",
              "    }\n",
              "\n",
              "    .dataframe thead th {\n",
              "        text-align: right;\n",
              "    }\n",
              "</style>\n",
              "<table border=\"1\" class=\"dataframe\">\n",
              "  <thead>\n",
              "    <tr style=\"text-align: right;\">\n",
              "      <th></th>\n",
              "      <th>longitude</th>\n",
              "      <th>latitude</th>\n",
              "      <th>housing_median_age</th>\n",
              "      <th>total_rooms</th>\n",
              "      <th>total_bedrooms</th>\n",
              "      <th>population</th>\n",
              "      <th>households</th>\n",
              "      <th>median_income</th>\n",
              "      <th>median_house_value</th>\n",
              "      <th>ocean_proximity</th>\n",
              "    </tr>\n",
              "  </thead>\n",
              "  <tbody>\n",
              "    <tr>\n",
              "      <th>0</th>\n",
              "      <td>-122.23</td>\n",
              "      <td>37.88</td>\n",
              "      <td>41.0</td>\n",
              "      <td>880.0</td>\n",
              "      <td>129.0</td>\n",
              "      <td>322.0</td>\n",
              "      <td>126.0</td>\n",
              "      <td>8.3252</td>\n",
              "      <td>452600.0</td>\n",
              "      <td>NEAR BAY</td>\n",
              "    </tr>\n",
              "    <tr>\n",
              "      <th>1</th>\n",
              "      <td>-122.22</td>\n",
              "      <td>37.86</td>\n",
              "      <td>21.0</td>\n",
              "      <td>7099.0</td>\n",
              "      <td>1106.0</td>\n",
              "      <td>2401.0</td>\n",
              "      <td>1138.0</td>\n",
              "      <td>8.3014</td>\n",
              "      <td>358500.0</td>\n",
              "      <td>NEAR BAY</td>\n",
              "    </tr>\n",
              "    <tr>\n",
              "      <th>2</th>\n",
              "      <td>-122.24</td>\n",
              "      <td>37.85</td>\n",
              "      <td>52.0</td>\n",
              "      <td>1467.0</td>\n",
              "      <td>190.0</td>\n",
              "      <td>496.0</td>\n",
              "      <td>177.0</td>\n",
              "      <td>7.2574</td>\n",
              "      <td>352100.0</td>\n",
              "      <td>NEAR BAY</td>\n",
              "    </tr>\n",
              "    <tr>\n",
              "      <th>3</th>\n",
              "      <td>-122.25</td>\n",
              "      <td>37.85</td>\n",
              "      <td>52.0</td>\n",
              "      <td>1274.0</td>\n",
              "      <td>235.0</td>\n",
              "      <td>558.0</td>\n",
              "      <td>219.0</td>\n",
              "      <td>5.6431</td>\n",
              "      <td>341300.0</td>\n",
              "      <td>NEAR BAY</td>\n",
              "    </tr>\n",
              "    <tr>\n",
              "      <th>4</th>\n",
              "      <td>-122.25</td>\n",
              "      <td>37.85</td>\n",
              "      <td>52.0</td>\n",
              "      <td>1627.0</td>\n",
              "      <td>280.0</td>\n",
              "      <td>565.0</td>\n",
              "      <td>259.0</td>\n",
              "      <td>3.8462</td>\n",
              "      <td>342200.0</td>\n",
              "      <td>NEAR BAY</td>\n",
              "    </tr>\n",
              "    <tr>\n",
              "      <th>5</th>\n",
              "      <td>-122.25</td>\n",
              "      <td>37.85</td>\n",
              "      <td>52.0</td>\n",
              "      <td>919.0</td>\n",
              "      <td>213.0</td>\n",
              "      <td>413.0</td>\n",
              "      <td>193.0</td>\n",
              "      <td>4.0368</td>\n",
              "      <td>269700.0</td>\n",
              "      <td>NEAR BAY</td>\n",
              "    </tr>\n",
              "    <tr>\n",
              "      <th>6</th>\n",
              "      <td>-122.25</td>\n",
              "      <td>37.84</td>\n",
              "      <td>52.0</td>\n",
              "      <td>2535.0</td>\n",
              "      <td>489.0</td>\n",
              "      <td>1094.0</td>\n",
              "      <td>514.0</td>\n",
              "      <td>3.6591</td>\n",
              "      <td>299200.0</td>\n",
              "      <td>NEAR BAY</td>\n",
              "    </tr>\n",
              "    <tr>\n",
              "      <th>7</th>\n",
              "      <td>-122.25</td>\n",
              "      <td>37.84</td>\n",
              "      <td>52.0</td>\n",
              "      <td>3104.0</td>\n",
              "      <td>687.0</td>\n",
              "      <td>1157.0</td>\n",
              "      <td>647.0</td>\n",
              "      <td>3.1200</td>\n",
              "      <td>241400.0</td>\n",
              "      <td>NEAR BAY</td>\n",
              "    </tr>\n",
              "    <tr>\n",
              "      <th>8</th>\n",
              "      <td>-122.26</td>\n",
              "      <td>37.84</td>\n",
              "      <td>42.0</td>\n",
              "      <td>2555.0</td>\n",
              "      <td>665.0</td>\n",
              "      <td>1206.0</td>\n",
              "      <td>595.0</td>\n",
              "      <td>2.0804</td>\n",
              "      <td>226700.0</td>\n",
              "      <td>NEAR BAY</td>\n",
              "    </tr>\n",
              "    <tr>\n",
              "      <th>9</th>\n",
              "      <td>-122.25</td>\n",
              "      <td>37.84</td>\n",
              "      <td>52.0</td>\n",
              "      <td>3549.0</td>\n",
              "      <td>707.0</td>\n",
              "      <td>1551.0</td>\n",
              "      <td>714.0</td>\n",
              "      <td>3.6912</td>\n",
              "      <td>261100.0</td>\n",
              "      <td>NEAR BAY</td>\n",
              "    </tr>\n",
              "  </tbody>\n",
              "</table>\n",
              "</div>\n",
              "      <button class=\"colab-df-convert\" onclick=\"convertToInteractive('df-2ce4c38f-9082-432e-8b0a-68f178369864')\"\n",
              "              title=\"Convert this dataframe to an interactive table.\"\n",
              "              style=\"display:none;\">\n",
              "        \n",
              "  <svg xmlns=\"http://www.w3.org/2000/svg\" height=\"24px\"viewBox=\"0 0 24 24\"\n",
              "       width=\"24px\">\n",
              "    <path d=\"M0 0h24v24H0V0z\" fill=\"none\"/>\n",
              "    <path d=\"M18.56 5.44l.94 2.06.94-2.06 2.06-.94-2.06-.94-.94-2.06-.94 2.06-2.06.94zm-11 1L8.5 8.5l.94-2.06 2.06-.94-2.06-.94L8.5 2.5l-.94 2.06-2.06.94zm10 10l.94 2.06.94-2.06 2.06-.94-2.06-.94-.94-2.06-.94 2.06-2.06.94z\"/><path d=\"M17.41 7.96l-1.37-1.37c-.4-.4-.92-.59-1.43-.59-.52 0-1.04.2-1.43.59L10.3 9.45l-7.72 7.72c-.78.78-.78 2.05 0 2.83L4 21.41c.39.39.9.59 1.41.59.51 0 1.02-.2 1.41-.59l7.78-7.78 2.81-2.81c.8-.78.8-2.07 0-2.86zM5.41 20L4 18.59l7.72-7.72 1.47 1.35L5.41 20z\"/>\n",
              "  </svg>\n",
              "      </button>\n",
              "      \n",
              "  <style>\n",
              "    .colab-df-container {\n",
              "      display:flex;\n",
              "      flex-wrap:wrap;\n",
              "      gap: 12px;\n",
              "    }\n",
              "\n",
              "    .colab-df-convert {\n",
              "      background-color: #E8F0FE;\n",
              "      border: none;\n",
              "      border-radius: 50%;\n",
              "      cursor: pointer;\n",
              "      display: none;\n",
              "      fill: #1967D2;\n",
              "      height: 32px;\n",
              "      padding: 0 0 0 0;\n",
              "      width: 32px;\n",
              "    }\n",
              "\n",
              "    .colab-df-convert:hover {\n",
              "      background-color: #E2EBFA;\n",
              "      box-shadow: 0px 1px 2px rgba(60, 64, 67, 0.3), 0px 1px 3px 1px rgba(60, 64, 67, 0.15);\n",
              "      fill: #174EA6;\n",
              "    }\n",
              "\n",
              "    [theme=dark] .colab-df-convert {\n",
              "      background-color: #3B4455;\n",
              "      fill: #D2E3FC;\n",
              "    }\n",
              "\n",
              "    [theme=dark] .colab-df-convert:hover {\n",
              "      background-color: #434B5C;\n",
              "      box-shadow: 0px 1px 3px 1px rgba(0, 0, 0, 0.15);\n",
              "      filter: drop-shadow(0px 1px 2px rgba(0, 0, 0, 0.3));\n",
              "      fill: #FFFFFF;\n",
              "    }\n",
              "  </style>\n",
              "\n",
              "      <script>\n",
              "        const buttonEl =\n",
              "          document.querySelector('#df-2ce4c38f-9082-432e-8b0a-68f178369864 button.colab-df-convert');\n",
              "        buttonEl.style.display =\n",
              "          google.colab.kernel.accessAllowed ? 'block' : 'none';\n",
              "\n",
              "        async function convertToInteractive(key) {\n",
              "          const element = document.querySelector('#df-2ce4c38f-9082-432e-8b0a-68f178369864');\n",
              "          const dataTable =\n",
              "            await google.colab.kernel.invokeFunction('convertToInteractive',\n",
              "                                                     [key], {});\n",
              "          if (!dataTable) return;\n",
              "\n",
              "          const docLinkHtml = 'Like what you see? Visit the ' +\n",
              "            '<a target=\"_blank\" href=https://colab.research.google.com/notebooks/data_table.ipynb>data table notebook</a>'\n",
              "            + ' to learn more about interactive tables.';\n",
              "          element.innerHTML = '';\n",
              "          dataTable['output_type'] = 'display_data';\n",
              "          await google.colab.output.renderOutput(dataTable, element);\n",
              "          const docLink = document.createElement('div');\n",
              "          docLink.innerHTML = docLinkHtml;\n",
              "          element.appendChild(docLink);\n",
              "        }\n",
              "      </script>\n",
              "    </div>\n",
              "  </div>\n",
              "  "
            ],
            "text/plain": [
              "   longitude  latitude  ...  median_house_value  ocean_proximity\n",
              "0    -122.23     37.88  ...            452600.0         NEAR BAY\n",
              "1    -122.22     37.86  ...            358500.0         NEAR BAY\n",
              "2    -122.24     37.85  ...            352100.0         NEAR BAY\n",
              "3    -122.25     37.85  ...            341300.0         NEAR BAY\n",
              "4    -122.25     37.85  ...            342200.0         NEAR BAY\n",
              "5    -122.25     37.85  ...            269700.0         NEAR BAY\n",
              "6    -122.25     37.84  ...            299200.0         NEAR BAY\n",
              "7    -122.25     37.84  ...            241400.0         NEAR BAY\n",
              "8    -122.26     37.84  ...            226700.0         NEAR BAY\n",
              "9    -122.25     37.84  ...            261100.0         NEAR BAY\n",
              "\n",
              "[10 rows x 10 columns]"
            ]
          },
          "metadata": {},
          "execution_count": 27
        }
      ]
>>>>>>> 0401d4fb7eded924705ee240c2a43c62906dd467
=======
>>>>>>> 73846309baea899d7a66be95a13424488ccfe9cc
    },
    {
      "cell_type": "markdown",
      "source": [
        "## This is my scratch notebook for my ML_HOUSING project."
      ],
<<<<<<< HEAD
<<<<<<< HEAD
      "text/plain": [
       "   longitude  latitude  ...  median_house_value  ocean_proximity\n",
       "0    -122.23     37.88  ...            452600.0         NEAR BAY\n",
       "1    -122.22     37.86  ...            358500.0         NEAR BAY\n",
       "2    -122.24     37.85  ...            352100.0         NEAR BAY\n",
       "3    -122.25     37.85  ...            341300.0         NEAR BAY\n",
       "4    -122.25     37.85  ...            342200.0         NEAR BAY\n",
       "5    -122.25     37.85  ...            269700.0         NEAR BAY\n",
       "6    -122.25     37.84  ...            299200.0         NEAR BAY\n",
       "7    -122.25     37.84  ...            241400.0         NEAR BAY\n",
       "8    -122.26     37.84  ...            226700.0         NEAR BAY\n",
       "9    -122.25     37.84  ...            261100.0         NEAR BAY\n",
       "\n",
       "[10 rows x 10 columns]"
=======
      "metadata": {
        "colab": {
          "base_uri": "https://localhost:8080/"
        },
        "id": "_uME9201Ms21",
        "outputId": "30d9f88b-b0ec-494b-af3e-01f48d9e457b"
      },
      "execution_count": 28,
      "outputs": [
        {
          "output_type": "stream",
          "name": "stdout",
          "text": [
            "<class 'pandas.core.frame.DataFrame'>\n",
            "RangeIndex: 20640 entries, 0 to 20639\n",
            "Data columns (total 10 columns):\n",
            " #   Column              Non-Null Count  Dtype  \n",
            "---  ------              --------------  -----  \n",
            " 0   longitude           20640 non-null  float64\n",
            " 1   latitude            20640 non-null  float64\n",
            " 2   housing_median_age  20640 non-null  float64\n",
            " 3   total_rooms         20640 non-null  float64\n",
            " 4   total_bedrooms      20433 non-null  float64\n",
            " 5   population          20640 non-null  float64\n",
            " 6   households          20640 non-null  float64\n",
            " 7   median_income       20640 non-null  float64\n",
            " 8   median_house_value  20640 non-null  float64\n",
            " 9   ocean_proximity     20640 non-null  object \n",
            "dtypes: float64(9), object(1)\n",
            "memory usage: 1.6+ MB\n"
          ]
        }
>>>>>>> 0401d4fb7eded924705ee240c2a43c62906dd467
=======
      "metadata": {
        "id": "cfSes81WLq_1"
      }
    },
    {
      "cell_type": "code",
      "execution_count": 1,
      "metadata": {
        "id": "f7jud00nJ1UB"
      },
      "outputs": [],
      "source": [
        "import sklearn\n",
        "assert sklearn.__version__ >= \"0.20\""
>>>>>>> 73846309baea899d7a66be95a13424488ccfe9cc
      ]
    },
    {
      "cell_type": "code",
      "source": [
        "# Common imports\n",
        "import numpy as np\n",
        "import os\n",
        "\n",
        "# To plot pretty figures\n",
        "%matplotlib inline\n",
        "import matplotlib as mpl\n",
        "import matplotlib.pyplot as plt\n",
        "mpl.rc('axes', labelsize=14)\n",
        "mpl.rc('xtick', labelsize=12)\n",
        "mpl.rc('ytick', labelsize=12)"
      ],
      "metadata": {
        "id": "UvAIzxJWKuB5"
      },
      "execution_count": 2,
      "outputs": []
    },
    {
<<<<<<< HEAD
<<<<<<< HEAD
     "data": {
      "image/png": "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\n",
      "text/plain": [
       "<Figure size 1440x1080 with 9 Axes>"
=======
      "cell_type": "code",
      "source": [
        "# We could plot each attribute at a time, but to save time let's call the hist() method on the whole dataset\n",
        "# %matplotlib inline works in Jupyter notebooks and Google Colab, telling Matplotlib to use the notebook's graphical backend to draw on your screen\n",
        "%matplotlib inline\n",
        "import matplotlib.pyplot as plt\n",
        "housing.hist(bins=50, figsize=(20,15))\n",
        "plt.show()\n",
        "\n",
        "# note: can't comment within a line! have to put comments on separate lines"
=======
      "cell_type": "markdown",
      "source": [
        "# **Get Data**\n",
        "\n",
        "I'm going to connect to the data for this project in Aurelien Geron's github. I will not add the ability to save the files because this isn't my local computer."
      ],
      "metadata": {
        "id": "3FSqQ-rxMWE1"
      }
    },
    {
      "cell_type": "code",
      "source": [
        "import os\n",
        "import tarfile\n",
        "import urllib.request #2017: from six.moves import urllib\n",
        "\n",
        "DOWNLOAD_ROOT = \"https://raw.githubusercontent.com/ageron/handson-ml2/master/\" #2017: \"...handson-ml/master/\"\n",
        "HOUSING_PATH = os.path.join(\"datasets\", \"housing\")\n",
        "HOUSING_URL = DOWNLOAD_ROOT + \"datasets/housing/housing.tgz\"\n",
        "\n",
        "def fetch_housing_data(housing_url=HOUSING_URL, housing_path=HOUSING_PATH):\n",
        "    if not os.path.isdir(housing_path):\n",
        "        os.makedirs(housing_path)\n",
        "    tgz_path = os.path.join(housing_path, \"housing.tgz\")\n",
        "    urllib.request.urlretrieve(housing_url, tgz_path)\n",
        "    housing_tgz = tarfile.open(tgz_path)\n",
        "    housing_tgz.extractall(path=housing_path)\n",
        "    housing_tgz.close()"
      ],
      "metadata": {
        "id": "tTIvzslrMMrM"
      },
      "execution_count": 3,
      "outputs": []
    },
    {
      "cell_type": "code",
      "source": [
        "fetch_housing_data()"
      ],
      "metadata": {
        "id": "9OOOoi6-MgJX"
      },
      "execution_count": 4,
      "outputs": []
    },
    {
      "cell_type": "code",
      "source": [
        "import pandas as pd\n",
        "\n",
        "def load_housing_data(housing_path=HOUSING_PATH):\n",
        "    csv_path = os.path.join(housing_path, \"housing.csv\")\n",
        "    return pd.read_csv(csv_path)"
      ],
      "metadata": {
        "id": "Jtusc5xcMkmA"
      },
      "execution_count": 5,
      "outputs": []
    },
    {
      "cell_type": "code",
      "source": [
        "housing = load_housing_data()\n",
        "housing.head(10)"
>>>>>>> 73846309baea899d7a66be95a13424488ccfe9cc
      ],
      "metadata": {
        "colab": {
          "base_uri": "https://localhost:8080/",
<<<<<<< HEAD
          "height": 882
        },
        "id": "cBtyFNYAM-pe",
        "outputId": "bf19cb24-5115-46f8-dc46-eef6c2228b83"
      },
      "execution_count": 29,
      "outputs": [
        {
          "output_type": "display_data",
          "data": {
            "image/png": "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\n",
            "text/plain": [
              "<Figure size 1440x1080 with 9 Axes>"
            ]
          },
          "metadata": {
            "needs_background": "light"
          }
        }
>>>>>>> 0401d4fb7eded924705ee240c2a43c62906dd467
=======
          "height": 363
        },
        "id": "mJeY0wYTMo36",
        "outputId": "6462775a-4b36-44b8-eea0-4543005099d6"
      },
      "execution_count": 6,
      "outputs": [
        {
          "output_type": "execute_result",
          "data": {
            "text/html": [
              "\n",
              "  <div id=\"df-b1caec0d-8659-458e-8ae4-f72b713c00c3\">\n",
              "    <div class=\"colab-df-container\">\n",
              "      <div>\n",
              "<style scoped>\n",
              "    .dataframe tbody tr th:only-of-type {\n",
              "        vertical-align: middle;\n",
              "    }\n",
              "\n",
              "    .dataframe tbody tr th {\n",
              "        vertical-align: top;\n",
              "    }\n",
              "\n",
              "    .dataframe thead th {\n",
              "        text-align: right;\n",
              "    }\n",
              "</style>\n",
              "<table border=\"1\" class=\"dataframe\">\n",
              "  <thead>\n",
              "    <tr style=\"text-align: right;\">\n",
              "      <th></th>\n",
              "      <th>longitude</th>\n",
              "      <th>latitude</th>\n",
              "      <th>housing_median_age</th>\n",
              "      <th>total_rooms</th>\n",
              "      <th>total_bedrooms</th>\n",
              "      <th>population</th>\n",
              "      <th>households</th>\n",
              "      <th>median_income</th>\n",
              "      <th>median_house_value</th>\n",
              "      <th>ocean_proximity</th>\n",
              "    </tr>\n",
              "  </thead>\n",
              "  <tbody>\n",
              "    <tr>\n",
              "      <th>0</th>\n",
              "      <td>-122.23</td>\n",
              "      <td>37.88</td>\n",
              "      <td>41.0</td>\n",
              "      <td>880.0</td>\n",
              "      <td>129.0</td>\n",
              "      <td>322.0</td>\n",
              "      <td>126.0</td>\n",
              "      <td>8.3252</td>\n",
              "      <td>452600.0</td>\n",
              "      <td>NEAR BAY</td>\n",
              "    </tr>\n",
              "    <tr>\n",
              "      <th>1</th>\n",
              "      <td>-122.22</td>\n",
              "      <td>37.86</td>\n",
              "      <td>21.0</td>\n",
              "      <td>7099.0</td>\n",
              "      <td>1106.0</td>\n",
              "      <td>2401.0</td>\n",
              "      <td>1138.0</td>\n",
              "      <td>8.3014</td>\n",
              "      <td>358500.0</td>\n",
              "      <td>NEAR BAY</td>\n",
              "    </tr>\n",
              "    <tr>\n",
              "      <th>2</th>\n",
              "      <td>-122.24</td>\n",
              "      <td>37.85</td>\n",
              "      <td>52.0</td>\n",
              "      <td>1467.0</td>\n",
              "      <td>190.0</td>\n",
              "      <td>496.0</td>\n",
              "      <td>177.0</td>\n",
              "      <td>7.2574</td>\n",
              "      <td>352100.0</td>\n",
              "      <td>NEAR BAY</td>\n",
              "    </tr>\n",
              "    <tr>\n",
              "      <th>3</th>\n",
              "      <td>-122.25</td>\n",
              "      <td>37.85</td>\n",
              "      <td>52.0</td>\n",
              "      <td>1274.0</td>\n",
              "      <td>235.0</td>\n",
              "      <td>558.0</td>\n",
              "      <td>219.0</td>\n",
              "      <td>5.6431</td>\n",
              "      <td>341300.0</td>\n",
              "      <td>NEAR BAY</td>\n",
              "    </tr>\n",
              "    <tr>\n",
              "      <th>4</th>\n",
              "      <td>-122.25</td>\n",
              "      <td>37.85</td>\n",
              "      <td>52.0</td>\n",
              "      <td>1627.0</td>\n",
              "      <td>280.0</td>\n",
              "      <td>565.0</td>\n",
              "      <td>259.0</td>\n",
              "      <td>3.8462</td>\n",
              "      <td>342200.0</td>\n",
              "      <td>NEAR BAY</td>\n",
              "    </tr>\n",
              "    <tr>\n",
              "      <th>5</th>\n",
              "      <td>-122.25</td>\n",
              "      <td>37.85</td>\n",
              "      <td>52.0</td>\n",
              "      <td>919.0</td>\n",
              "      <td>213.0</td>\n",
              "      <td>413.0</td>\n",
              "      <td>193.0</td>\n",
              "      <td>4.0368</td>\n",
              "      <td>269700.0</td>\n",
              "      <td>NEAR BAY</td>\n",
              "    </tr>\n",
              "    <tr>\n",
              "      <th>6</th>\n",
              "      <td>-122.25</td>\n",
              "      <td>37.84</td>\n",
              "      <td>52.0</td>\n",
              "      <td>2535.0</td>\n",
              "      <td>489.0</td>\n",
              "      <td>1094.0</td>\n",
              "      <td>514.0</td>\n",
              "      <td>3.6591</td>\n",
              "      <td>299200.0</td>\n",
              "      <td>NEAR BAY</td>\n",
              "    </tr>\n",
              "    <tr>\n",
              "      <th>7</th>\n",
              "      <td>-122.25</td>\n",
              "      <td>37.84</td>\n",
              "      <td>52.0</td>\n",
              "      <td>3104.0</td>\n",
              "      <td>687.0</td>\n",
              "      <td>1157.0</td>\n",
              "      <td>647.0</td>\n",
              "      <td>3.1200</td>\n",
              "      <td>241400.0</td>\n",
              "      <td>NEAR BAY</td>\n",
              "    </tr>\n",
              "    <tr>\n",
              "      <th>8</th>\n",
              "      <td>-122.26</td>\n",
              "      <td>37.84</td>\n",
              "      <td>42.0</td>\n",
              "      <td>2555.0</td>\n",
              "      <td>665.0</td>\n",
              "      <td>1206.0</td>\n",
              "      <td>595.0</td>\n",
              "      <td>2.0804</td>\n",
              "      <td>226700.0</td>\n",
              "      <td>NEAR BAY</td>\n",
              "    </tr>\n",
              "    <tr>\n",
              "      <th>9</th>\n",
              "      <td>-122.25</td>\n",
              "      <td>37.84</td>\n",
              "      <td>52.0</td>\n",
              "      <td>3549.0</td>\n",
              "      <td>707.0</td>\n",
              "      <td>1551.0</td>\n",
              "      <td>714.0</td>\n",
              "      <td>3.6912</td>\n",
              "      <td>261100.0</td>\n",
              "      <td>NEAR BAY</td>\n",
              "    </tr>\n",
              "  </tbody>\n",
              "</table>\n",
              "</div>\n",
              "      <button class=\"colab-df-convert\" onclick=\"convertToInteractive('df-b1caec0d-8659-458e-8ae4-f72b713c00c3')\"\n",
              "              title=\"Convert this dataframe to an interactive table.\"\n",
              "              style=\"display:none;\">\n",
              "        \n",
              "  <svg xmlns=\"http://www.w3.org/2000/svg\" height=\"24px\"viewBox=\"0 0 24 24\"\n",
              "       width=\"24px\">\n",
              "    <path d=\"M0 0h24v24H0V0z\" fill=\"none\"/>\n",
              "    <path d=\"M18.56 5.44l.94 2.06.94-2.06 2.06-.94-2.06-.94-.94-2.06-.94 2.06-2.06.94zm-11 1L8.5 8.5l.94-2.06 2.06-.94-2.06-.94L8.5 2.5l-.94 2.06-2.06.94zm10 10l.94 2.06.94-2.06 2.06-.94-2.06-.94-.94-2.06-.94 2.06-2.06.94z\"/><path d=\"M17.41 7.96l-1.37-1.37c-.4-.4-.92-.59-1.43-.59-.52 0-1.04.2-1.43.59L10.3 9.45l-7.72 7.72c-.78.78-.78 2.05 0 2.83L4 21.41c.39.39.9.59 1.41.59.51 0 1.02-.2 1.41-.59l7.78-7.78 2.81-2.81c.8-.78.8-2.07 0-2.86zM5.41 20L4 18.59l7.72-7.72 1.47 1.35L5.41 20z\"/>\n",
              "  </svg>\n",
              "      </button>\n",
              "      \n",
              "  <style>\n",
              "    .colab-df-container {\n",
              "      display:flex;\n",
              "      flex-wrap:wrap;\n",
              "      gap: 12px;\n",
              "    }\n",
              "\n",
              "    .colab-df-convert {\n",
              "      background-color: #E8F0FE;\n",
              "      border: none;\n",
              "      border-radius: 50%;\n",
              "      cursor: pointer;\n",
              "      display: none;\n",
              "      fill: #1967D2;\n",
              "      height: 32px;\n",
              "      padding: 0 0 0 0;\n",
              "      width: 32px;\n",
              "    }\n",
              "\n",
              "    .colab-df-convert:hover {\n",
              "      background-color: #E2EBFA;\n",
              "      box-shadow: 0px 1px 2px rgba(60, 64, 67, 0.3), 0px 1px 3px 1px rgba(60, 64, 67, 0.15);\n",
              "      fill: #174EA6;\n",
              "    }\n",
              "\n",
              "    [theme=dark] .colab-df-convert {\n",
              "      background-color: #3B4455;\n",
              "      fill: #D2E3FC;\n",
              "    }\n",
              "\n",
              "    [theme=dark] .colab-df-convert:hover {\n",
              "      background-color: #434B5C;\n",
              "      box-shadow: 0px 1px 3px 1px rgba(0, 0, 0, 0.15);\n",
              "      filter: drop-shadow(0px 1px 2px rgba(0, 0, 0, 0.3));\n",
              "      fill: #FFFFFF;\n",
              "    }\n",
              "  </style>\n",
              "\n",
              "      <script>\n",
              "        const buttonEl =\n",
              "          document.querySelector('#df-b1caec0d-8659-458e-8ae4-f72b713c00c3 button.colab-df-convert');\n",
              "        buttonEl.style.display =\n",
              "          google.colab.kernel.accessAllowed ? 'block' : 'none';\n",
              "\n",
              "        async function convertToInteractive(key) {\n",
              "          const element = document.querySelector('#df-b1caec0d-8659-458e-8ae4-f72b713c00c3');\n",
              "          const dataTable =\n",
              "            await google.colab.kernel.invokeFunction('convertToInteractive',\n",
              "                                                     [key], {});\n",
              "          if (!dataTable) return;\n",
              "\n",
              "          const docLinkHtml = 'Like what you see? Visit the ' +\n",
              "            '<a target=\"_blank\" href=https://colab.research.google.com/notebooks/data_table.ipynb>data table notebook</a>'\n",
              "            + ' to learn more about interactive tables.';\n",
              "          element.innerHTML = '';\n",
              "          dataTable['output_type'] = 'display_data';\n",
              "          await google.colab.output.renderOutput(dataTable, element);\n",
              "          const docLink = document.createElement('div');\n",
              "          docLink.innerHTML = docLinkHtml;\n",
              "          element.appendChild(docLink);\n",
              "        }\n",
              "      </script>\n",
              "    </div>\n",
              "  </div>\n",
              "  "
            ],
            "text/plain": [
              "   longitude  latitude  ...  median_house_value  ocean_proximity\n",
              "0    -122.23     37.88  ...            452600.0         NEAR BAY\n",
              "1    -122.22     37.86  ...            358500.0         NEAR BAY\n",
              "2    -122.24     37.85  ...            352100.0         NEAR BAY\n",
              "3    -122.25     37.85  ...            341300.0         NEAR BAY\n",
              "4    -122.25     37.85  ...            342200.0         NEAR BAY\n",
              "5    -122.25     37.85  ...            269700.0         NEAR BAY\n",
              "6    -122.25     37.84  ...            299200.0         NEAR BAY\n",
              "7    -122.25     37.84  ...            241400.0         NEAR BAY\n",
              "8    -122.26     37.84  ...            226700.0         NEAR BAY\n",
              "9    -122.25     37.84  ...            261100.0         NEAR BAY\n",
              "\n",
              "[10 rows x 10 columns]"
            ]
          },
          "metadata": {},
          "execution_count": 6
        }
>>>>>>> 73846309baea899d7a66be95a13424488ccfe9cc
      ]
    },
    {
<<<<<<< HEAD
<<<<<<< HEAD
     "data": {
      "text/plain": [
       "16512"
=======
      "cell_type": "markdown",
      "source": [
        "Notes:  \n",
        "* Median Income seems not to be in currency. It is also capped at 15 on the high end and 0.5 on the low end.\n",
        "* Housing median age is also capped at 50.\n",
        "* Median housing value is also capped at 500,000; this could be an issue if we the client needs accurate predictions even beyond 500,000. If they do I can either get accurate labels for instances beyond 500,000 OR take all the incidents beyond the cap out of the training and test set (I guess that makes it possible to train the model without teaching it that houses stick to 500,000 in a clump like that? idk).\n",
        "* These attributes have very different scales.\n",
        "* Many of these histograms are tail-heavy; we'll have to transform some later to make it more bell-shaped."
      ],
      "metadata": {
        "id": "LO4PTBtxNfXQ"
      }
    },
    {
      "cell_type": "markdown",
      "source": [
        "# **Create a Test Set**\n",
        "To avoid *data snooping*, which is when you look at test data and accidentally detect patterns that might bias you toward an over-fitted model, choose the test data at this stage and don't look at it again until it's needed.\n",
        "\n",
        "There are several options to getting the test set:\n",
        "\n",
        "1. Pick 20% of the instances at random using `numpy.random.permutation()` to shuffle the set, then splitting out 0.2 (20%) into a separate index to get two random indices: training data (16512 instances) and test data (4128 instances)\n",
        "\n",
        "This only works once for a single set. We need to be able to run this process multiple times (unclear why, need to read further). If you run it again, you'll get a different set of test data, which will eventually cycle through the whole dataset. We don't want to do that because you'll make a model that fits too close to thise dataset and won't be ready for new data.\n",
        "\n",
        "2. Make the 20% selected above into a \"permanent\" test set: either save it from the first run and load it in subsequent runs, or set the random number generator's seed before calling `numpy.random.permutation()` so it always generates the same shuffled indices.\n",
        "\n",
        "I'm not sure how either of these options work realistically. Hopefully I'll understand them better as we go. In general though, setting aside a permanent set from this first run will only work until we fetch an updated dataset.\n",
        "\n",
        "3. Use a unique, immutable identifier for each instance to separate out the 20%: Import hashlib. Compute a hash from the ID and run a function to set aside instances with the last byte of their hash being less than or equal to 51 because 51 is 20% of 256.\n",
        "\n",
        "This method works because an updated dataset would have updated IDs. No new test set would contain any instances from a previous training set because that previous set would meet that hash parameter. However, the dataset does not have unique identifiers. We have to make some.\n"
      ],
      "metadata": {
        "id": "mx_YnLEn9ClD"
      }
    },
    {
      "cell_type": "markdown",
      "source": [
        "## Method 1 and 2: Split Data Using numpy.random.permutation"
      ],
      "metadata": {
        "id": "qfAc_KOMH63K"
      }
    },
    {
      "cell_type": "markdown",
      "source": [
        "[Geron's updated walkthrough](https://github.com/ageron/handson-ml2/blob/master/02_end_to_end_machine_learning_project.ipynb) shows the code needed to split up our dataset into test and training sets.\n",
        "\n",
        "The first splits the test using Method #2 above: Make the selected set \"permanent\" by setting the random number generator's seed (`np.random.seed`) before calling `numpy.random.permutation()` so it always generates the same shuffled indices. This is done by defining the function `split_train_test`.\n",
        "\n",
        "***Note***: *This method is for illustration only, tying back to the book. Sklearn uses another method called `train_test_split()`.*"
      ],
      "metadata": {
        "id": "xFEeL0Zf6O_u"
      }
    },
    {
      "cell_type": "code",
      "source": [
        "# to make this notebook's output identical at every run\n",
        "np.random.seed(42)\n",
        "import numpy as np\n",
        "\n",
        "# For illustration only. Sklearn has train_test_split()\n",
        "def split_train_test(data, test_ratio):\n",
        "    shuffled_indices = np.random.permutation(len(data))\n",
        "    test_set_size = int(len(data) * test_ratio)\n",
        "    test_indices = shuffled_indices[:test_set_size]\n",
        "    train_indices = shuffled_indices[test_set_size:]\n",
        "    return data.iloc[train_indices], data.iloc[test_indices]\n",
        "train_set, test_set = split_train_test(housing, 0.2)"
      ],
      "metadata": {
        "id": "uZaZgZnW6mjX"
      },
      "execution_count": 30,
      "outputs": []
    },
    {
      "cell_type": "code",
      "source": [
        "len(train_set)"
=======
      "cell_type": "code",
      "source": [
        "housing.info()"
>>>>>>> 73846309baea899d7a66be95a13424488ccfe9cc
      ],
      "metadata": {
        "colab": {
          "base_uri": "https://localhost:8080/"
        },
<<<<<<< HEAD
        "id": "xVsri-l07xIt",
        "outputId": "89dd8ef2-f35a-48f6-86da-ff3ef0b0f2ff"
      },
      "execution_count": 31,
      "outputs": [
        {
          "output_type": "execute_result",
          "data": {
            "text/plain": [
              "16512"
            ]
          },
          "metadata": {},
          "execution_count": 31
        }
>>>>>>> 0401d4fb7eded924705ee240c2a43c62906dd467
=======
        "id": "_uME9201Ms21",
        "outputId": "181cf32c-d3ac-45af-efaa-75e27a947564"
      },
      "execution_count": 7,
      "outputs": [
        {
          "output_type": "stream",
          "name": "stdout",
          "text": [
            "<class 'pandas.core.frame.DataFrame'>\n",
            "RangeIndex: 20640 entries, 0 to 20639\n",
            "Data columns (total 10 columns):\n",
            " #   Column              Non-Null Count  Dtype  \n",
            "---  ------              --------------  -----  \n",
            " 0   longitude           20640 non-null  float64\n",
            " 1   latitude            20640 non-null  float64\n",
            " 2   housing_median_age  20640 non-null  float64\n",
            " 3   total_rooms         20640 non-null  float64\n",
            " 4   total_bedrooms      20433 non-null  float64\n",
            " 5   population          20640 non-null  float64\n",
            " 6   households          20640 non-null  float64\n",
            " 7   median_income       20640 non-null  float64\n",
            " 8   median_house_value  20640 non-null  float64\n",
            " 9   ocean_proximity     20640 non-null  object \n",
            "dtypes: float64(9), object(1)\n",
            "memory usage: 1.6+ MB\n"
          ]
        }
>>>>>>> 73846309baea899d7a66be95a13424488ccfe9cc
      ]
    },
    {
<<<<<<< HEAD
<<<<<<< HEAD
     "data": {
      "text/plain": [
       "4128"
=======
      "cell_type": "code",
      "source": [
        "len(test_set)"
      ],
      "metadata": {
        "colab": {
          "base_uri": "https://localhost:8080/"
        },
        "id": "plDrRmCZ7w7x",
        "outputId": "ba490595-8b84-4164-af17-6b408c12df0a"
      },
      "execution_count": 32,
      "outputs": [
        {
          "output_type": "execute_result",
          "data": {
            "text/plain": [
              "4128"
            ]
          },
          "metadata": {},
          "execution_count": 32
        }
>>>>>>> 0401d4fb7eded924705ee240c2a43c62906dd467
=======
      "cell_type": "markdown",
      "source": [
        "Skipping ahead to the histograms:"
      ],
      "metadata": {
        "id": "9s51cwq_M85Q"
      }
    },
    {
      "cell_type": "code",
      "source": [
        "# We could plot each attribute at a time, but to save time let's call the hist() method on the whole dataset\n",
        "# %matplotlib inline works in Jupyter notebooks and Google Colab, telling Matplotlib to use the notebook's graphical backend to draw on your screen\n",
        "%matplotlib inline\n",
        "import matplotlib.pyplot as plt\n",
        "housing.hist(bins=50, figsize=(20,15))\n",
        "plt.show()\n",
        "\n",
        "# note: can't comment within a line! have to put comments on separate lines"
      ],
      "metadata": {
        "colab": {
          "base_uri": "https://localhost:8080/",
          "height": 882
        },
        "id": "cBtyFNYAM-pe",
        "outputId": "e8b60954-92e6-434d-ef31-8af7a9243f4e"
      },
      "execution_count": 8,
      "outputs": [
        {
          "output_type": "display_data",
          "data": {
            "image/png": "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\n",
            "text/plain": [
              "<Figure size 1440x1080 with 9 Axes>"
            ]
          },
          "metadata": {
            "needs_background": "light"
          }
        }
>>>>>>> 73846309baea899d7a66be95a13424488ccfe9cc
      ]
    },
    {
<<<<<<< HEAD
<<<<<<< HEAD
     "data": {
      "text/html": [
       "\n",
       "  <div id=\"df-740bdad7-03c8-4381-8868-f0f6e064f31c\">\n",
       "    <div class=\"colab-df-container\">\n",
       "      <div>\n",
       "<style scoped>\n",
       "    .dataframe tbody tr th:only-of-type {\n",
       "        vertical-align: middle;\n",
       "    }\n",
       "\n",
       "    .dataframe tbody tr th {\n",
       "        vertical-align: top;\n",
       "    }\n",
       "\n",
       "    .dataframe thead th {\n",
       "        text-align: right;\n",
       "    }\n",
       "</style>\n",
       "<table border=\"1\" class=\"dataframe\">\n",
       "  <thead>\n",
       "    <tr style=\"text-align: right;\">\n",
       "      <th></th>\n",
       "      <th>index</th>\n",
       "      <th>longitude</th>\n",
       "      <th>latitude</th>\n",
       "      <th>housing_median_age</th>\n",
       "      <th>total_rooms</th>\n",
       "      <th>total_bedrooms</th>\n",
       "      <th>population</th>\n",
       "      <th>households</th>\n",
       "      <th>median_income</th>\n",
       "      <th>median_house_value</th>\n",
       "      <th>ocean_proximity</th>\n",
       "      <th>id</th>\n",
       "    </tr>\n",
       "  </thead>\n",
       "  <tbody>\n",
       "    <tr>\n",
       "      <th>8</th>\n",
       "      <td>8</td>\n",
       "      <td>-122.26</td>\n",
       "      <td>37.84</td>\n",
       "      <td>42.0</td>\n",
       "      <td>2555.0</td>\n",
       "      <td>665.0</td>\n",
       "      <td>1206.0</td>\n",
       "      <td>595.0</td>\n",
       "      <td>2.0804</td>\n",
       "      <td>226700.0</td>\n",
       "      <td>NEAR BAY</td>\n",
       "      <td>-122222.16</td>\n",
       "    </tr>\n",
       "    <tr>\n",
       "      <th>10</th>\n",
       "      <td>10</td>\n",
       "      <td>-122.26</td>\n",
       "      <td>37.85</td>\n",
       "      <td>52.0</td>\n",
       "      <td>2202.0</td>\n",
       "      <td>434.0</td>\n",
       "      <td>910.0</td>\n",
       "      <td>402.0</td>\n",
       "      <td>3.2031</td>\n",
       "      <td>281500.0</td>\n",
       "      <td>NEAR BAY</td>\n",
       "      <td>-122222.15</td>\n",
       "    </tr>\n",
       "    <tr>\n",
       "      <th>11</th>\n",
       "      <td>11</td>\n",
       "      <td>-122.26</td>\n",
       "      <td>37.85</td>\n",
       "      <td>52.0</td>\n",
       "      <td>3503.0</td>\n",
       "      <td>752.0</td>\n",
       "      <td>1504.0</td>\n",
       "      <td>734.0</td>\n",
       "      <td>3.2705</td>\n",
       "      <td>241800.0</td>\n",
       "      <td>NEAR BAY</td>\n",
       "      <td>-122222.15</td>\n",
       "    </tr>\n",
       "    <tr>\n",
       "      <th>12</th>\n",
       "      <td>12</td>\n",
       "      <td>-122.26</td>\n",
       "      <td>37.85</td>\n",
       "      <td>52.0</td>\n",
       "      <td>2491.0</td>\n",
       "      <td>474.0</td>\n",
       "      <td>1098.0</td>\n",
       "      <td>468.0</td>\n",
       "      <td>3.0750</td>\n",
       "      <td>213500.0</td>\n",
       "      <td>NEAR BAY</td>\n",
       "      <td>-122222.15</td>\n",
       "    </tr>\n",
       "    <tr>\n",
       "      <th>13</th>\n",
       "      <td>13</td>\n",
       "      <td>-122.26</td>\n",
       "      <td>37.84</td>\n",
       "      <td>52.0</td>\n",
       "      <td>696.0</td>\n",
       "      <td>191.0</td>\n",
       "      <td>345.0</td>\n",
       "      <td>174.0</td>\n",
       "      <td>2.6736</td>\n",
       "      <td>191300.0</td>\n",
       "      <td>NEAR BAY</td>\n",
       "      <td>-122222.16</td>\n",
       "    </tr>\n",
       "  </tbody>\n",
       "</table>\n",
       "</div>\n",
       "      <button class=\"colab-df-convert\" onclick=\"convertToInteractive('df-740bdad7-03c8-4381-8868-f0f6e064f31c')\"\n",
       "              title=\"Convert this dataframe to an interactive table.\"\n",
       "              style=\"display:none;\">\n",
       "        \n",
       "  <svg xmlns=\"http://www.w3.org/2000/svg\" height=\"24px\"viewBox=\"0 0 24 24\"\n",
       "       width=\"24px\">\n",
       "    <path d=\"M0 0h24v24H0V0z\" fill=\"none\"/>\n",
       "    <path d=\"M18.56 5.44l.94 2.06.94-2.06 2.06-.94-2.06-.94-.94-2.06-.94 2.06-2.06.94zm-11 1L8.5 8.5l.94-2.06 2.06-.94-2.06-.94L8.5 2.5l-.94 2.06-2.06.94zm10 10l.94 2.06.94-2.06 2.06-.94-2.06-.94-.94-2.06-.94 2.06-2.06.94z\"/><path d=\"M17.41 7.96l-1.37-1.37c-.4-.4-.92-.59-1.43-.59-.52 0-1.04.2-1.43.59L10.3 9.45l-7.72 7.72c-.78.78-.78 2.05 0 2.83L4 21.41c.39.39.9.59 1.41.59.51 0 1.02-.2 1.41-.59l7.78-7.78 2.81-2.81c.8-.78.8-2.07 0-2.86zM5.41 20L4 18.59l7.72-7.72 1.47 1.35L5.41 20z\"/>\n",
       "  </svg>\n",
       "      </button>\n",
       "      \n",
       "  <style>\n",
       "    .colab-df-container {\n",
       "      display:flex;\n",
       "      flex-wrap:wrap;\n",
       "      gap: 12px;\n",
       "    }\n",
       "\n",
       "    .colab-df-convert {\n",
       "      background-color: #E8F0FE;\n",
       "      border: none;\n",
       "      border-radius: 50%;\n",
       "      cursor: pointer;\n",
       "      display: none;\n",
       "      fill: #1967D2;\n",
       "      height: 32px;\n",
       "      padding: 0 0 0 0;\n",
       "      width: 32px;\n",
       "    }\n",
       "\n",
       "    .colab-df-convert:hover {\n",
       "      background-color: #E2EBFA;\n",
       "      box-shadow: 0px 1px 2px rgba(60, 64, 67, 0.3), 0px 1px 3px 1px rgba(60, 64, 67, 0.15);\n",
       "      fill: #174EA6;\n",
       "    }\n",
       "\n",
       "    [theme=dark] .colab-df-convert {\n",
       "      background-color: #3B4455;\n",
       "      fill: #D2E3FC;\n",
       "    }\n",
       "\n",
       "    [theme=dark] .colab-df-convert:hover {\n",
       "      background-color: #434B5C;\n",
       "      box-shadow: 0px 1px 3px 1px rgba(0, 0, 0, 0.15);\n",
       "      filter: drop-shadow(0px 1px 2px rgba(0, 0, 0, 0.3));\n",
       "      fill: #FFFFFF;\n",
       "    }\n",
       "  </style>\n",
       "\n",
       "      <script>\n",
       "        const buttonEl =\n",
       "          document.querySelector('#df-740bdad7-03c8-4381-8868-f0f6e064f31c button.colab-df-convert');\n",
       "        buttonEl.style.display =\n",
       "          google.colab.kernel.accessAllowed ? 'block' : 'none';\n",
       "\n",
       "        async function convertToInteractive(key) {\n",
       "          const element = document.querySelector('#df-740bdad7-03c8-4381-8868-f0f6e064f31c');\n",
       "          const dataTable =\n",
       "            await google.colab.kernel.invokeFunction('convertToInteractive',\n",
       "                                                     [key], {});\n",
       "          if (!dataTable) return;\n",
       "\n",
       "          const docLinkHtml = 'Like what you see? Visit the ' +\n",
       "            '<a target=\"_blank\" href=https://colab.research.google.com/notebooks/data_table.ipynb>data table notebook</a>'\n",
       "            + ' to learn more about interactive tables.';\n",
       "          element.innerHTML = '';\n",
       "          dataTable['output_type'] = 'display_data';\n",
       "          await google.colab.output.renderOutput(dataTable, element);\n",
       "          const docLink = document.createElement('div');\n",
       "          docLink.innerHTML = docLinkHtml;\n",
       "          element.appendChild(docLink);\n",
       "        }\n",
       "      </script>\n",
       "    </div>\n",
       "  </div>\n",
       "  "
=======
      "cell_type": "markdown",
      "source": [
        "Notes:  \n",
        "* Median Income seems not to be in currency. It is also capped at 15 on the high end and 0.5 on the low end.\n",
        "* Housing median age is also capped at 50.\n",
        "* Median housing value is also capped at 500,000; this could be an issue if we the client needs accurate predictions even beyond 500,000. If they do I can either get accurate labels for instances beyond 500,000 OR take all the incidents beyond the cap out of the training and test set (I guess that makes it possible to train the model without teaching it that houses stick to 500,000 in a clump like that? idk).\n",
        "* These attributes have very different scales.\n",
        "* Many of these histograms are tail-heavy; we'll have to transform some later to make it more bell-shaped."
      ],
      "metadata": {
        "id": "LO4PTBtxNfXQ"
      }
    },
    {
      "cell_type": "markdown",
      "source": [
        "# **Create a Test Set**\n",
        "To avoid *data snooping*, which is when you look at test data and accidentally detect patterns that might bias you toward an over-fitted model, choose the test data at this stage and don't look at it again until it's needed.\n",
        "\n",
        "There are several options to getting the test set:\n",
        "\n",
        "1. Pick 20% of the instances at random using `numpy.random.permutation()` to shuffle the set, then splitting out 0.2 (20%) into a separate index to get two random indices: training data (16512 instances) and test data (4128 instances)\n",
        "\n",
        "This only works once for a single set. We need to be able to run this process multiple times (unclear why, need to read further). If you run it again, you'll get a different set of test data, which will eventually cycle through the whole dataset. We don't want to do that because you'll make a model that fits too close to thise dataset and won't be ready for new data.\n",
        "\n",
        "2. Make the 20% selected above into a \"permanent\" test set: either save it from the first run and load it in subsequent runs, or set the random number generator's seed before calling `numpy.random.permutation()` so it always generates the same shuffled indices.\n",
        "\n",
        "I'm not sure how either of these options work realistically. Hopefully I'll understand them better as we go. In general though, setting aside a permanent set from this first run will only work until we fetch an updated dataset.\n",
        "\n",
        "3. Use a unique, immutable identifier for each instance to separate out the 20%: Import hashlib. Compute a hash from the ID and run a function to set aside instances with the last byte of their hash being less than or equal to 51 because 51 is 20% of 256.\n",
        "\n",
        "This method works because an updated dataset would have updated IDs. No new test set would contain any instances from a previous training set because that previous set would meet that hash parameter. However, the dataset does not have unique identifiers. We have to make some.\n"
      ],
      "metadata": {
        "id": "mx_YnLEn9ClD"
      }
    },
    {
      "cell_type": "markdown",
      "source": [
        "## Method 1 and 2: Split Data Using numpy.random.permutation"
      ],
      "metadata": {
        "id": "qfAc_KOMH63K"
      }
    },
    {
      "cell_type": "markdown",
      "source": [
        "[Geron's updated walkthrough](https://github.com/ageron/handson-ml2/blob/master/02_end_to_end_machine_learning_project.ipynb) shows the code needed to split up our dataset into test and training sets.\n",
        "\n",
        "The first splits the test using Method #2 above: Make the selected set \"permanent\" by setting the random number generator's seed (`np.random.seed`) before calling `numpy.random.permutation()` so it always generates the same shuffled indices. This is done by defining the function `split_train_test`.\n",
        "\n",
        "***Note***: *This method is for illustration only, tying back to the book. Sklearn uses another method called `train_test_split()`.*"
      ],
      "metadata": {
        "id": "xFEeL0Zf6O_u"
      }
    },
    {
      "cell_type": "code",
      "source": [
        "# to make this notebook's output identical at every run\n",
        "np.random.seed(42)\n",
        "import numpy as np\n",
        "\n",
        "# For illustration only. Sklearn has train_test_split()\n",
        "def split_train_test(data, test_ratio):\n",
        "    shuffled_indices = np.random.permutation(len(data))\n",
        "    test_set_size = int(len(data) * test_ratio)\n",
        "    test_indices = shuffled_indices[:test_set_size]\n",
        "    train_indices = shuffled_indices[test_set_size:]\n",
        "    return data.iloc[train_indices], data.iloc[test_indices]\n",
        "train_set, test_set = split_train_test(housing, 0.2)"
      ],
      "metadata": {
        "id": "uZaZgZnW6mjX"
      },
      "execution_count": 9,
      "outputs": []
    },
    {
      "cell_type": "code",
      "source": [
        "len(train_set)"
      ],
      "metadata": {
        "colab": {
          "base_uri": "https://localhost:8080/"
        },
        "id": "xVsri-l07xIt",
        "outputId": "d1b7121f-7628-4406-a9cc-d2313874c446"
      },
      "execution_count": 10,
      "outputs": [
        {
          "output_type": "execute_result",
          "data": {
            "text/plain": [
              "16512"
            ]
          },
          "metadata": {},
          "execution_count": 10
        }
      ]
    },
    {
      "cell_type": "code",
      "source": [
        "len(test_set)"
      ],
      "metadata": {
        "colab": {
          "base_uri": "https://localhost:8080/"
        },
        "id": "plDrRmCZ7w7x",
        "outputId": "53cf9355-c33a-490e-87b0-2d5daf8d7087"
      },
      "execution_count": 11,
      "outputs": [
        {
          "output_type": "execute_result",
          "data": {
            "text/plain": [
              "4128"
            ]
          },
          "metadata": {},
          "execution_count": 11
        }
      ]
    },
    {
      "cell_type": "markdown",
      "source": [
        "## Method 3: Split Data Using Random Sampling on Unique IDs"
      ],
      "metadata": {
        "id": "JfaZXxo5IG95"
      }
    },
    {
      "cell_type": "markdown",
      "source": [
        "Method #3 uses unique, consistent IDs. This means it won't break when we fetch an updated dataset.\n",
        "\n",
        "Geron's walkthrough uses the following to define the `test_set_check` function to define hash ids in the data. This solution does not seem to support any hash functions, but is compatible with Python 2 and 3:\n",
        "\n",
        "```\n",
        "from zlib import crc32\n",
        "\n",
        "def test_set_check(identifier, test_ratio):\n",
        "    return crc32(np.int64(identifier)) & 0xffffffff < test_ratio * 2**32\n",
        "```"
      ],
      "metadata": {
        "id": "7eDY-zQd8bf6"
      }
    },
    {
      "cell_type": "markdown",
      "source": [
        "The one my book gives supports any hash function but runs slower and does not support Python 2:\n",
        "\n",
        "```\n",
        "import hashlib\n",
        "\n",
        "def test_set_check(identifier, test_ratio, hash):  \n",
        "  return hash(np.int64(identifier)).digest()[-1] < 256 * test_ratio\n",
        "```"
      ],
      "metadata": {
        "id": "tByYPA_u9X-v"
      }
    },
    {
      "cell_type": "markdown",
      "source": [
        "This is the updated version, which supports any hash and is compatible with Python 2 and 3:"
      ],
      "metadata": {
        "id": "67kNMC56CJ9S"
      }
    },
    {
      "cell_type": "code",
      "source": [
        "import hashlib\n",
        "\n",
        "def test_set_check(identifier, test_ratio, hash=hashlib.md5):\n",
        "    return bytearray(hash(np.int64(identifier)).digest())[-1] < 256 * test_ratio"
      ],
      "metadata": {
        "id": "GwdxYhMQ_FBz"
      },
      "execution_count": 12,
      "outputs": []
    },
    {
      "cell_type": "markdown",
      "source": [
        "***Side Bar: Hash Tables are Cool***\n",
        "\n",
        ">I dove down a Wiki rabbit hole on cryptographic hash functions that I fully intend to revisit because they are super cool.\n",
        ">   \n",
        ">This article by Vaidehi Joshi links to a [podcast episode](https://www.codenewbie.org/basecs/28) that introduced me to hash tables: [Taking Hash Tables Off the Shelf](https://medium.com/basecs/taking-hash-tables-off-the-shelf-139cbf4752f0). It describes hash tables as an alternative to linked lists, arrays, and stacks, because in order to search through those you need to look at each instance in them to find the one you're looking for. This means searching for something in them ends up being in *linear time*, or O(n). Using a hash function to place or interact with a value/instance in the array/table allows us to work in *constant time*, or O(1). There is nothing to look at before or after the value itself because of the hash function.\n",
        ">\n",
        ">This sounds so much like cryptography. I've heard of security experts needing to know about \"hashing\". I think this is the connection. My data tables hold information in specific spots you can find if you know the hash function that placed them there. When you create a code, you use equations to transform a value into its symbolic equal in some way, or at least map out how to find it - that's encoding, cryptography, encryption. That sounds very much like what we're doing here on a smaller scale: Hash tables help me find what I'm looking for. They can also be used to hide information so that only I can find it.\n",
        ">\n",
        ">Here's the [wiki article](https://en.wikipedia.org/wiki/SHA-2) on SHA-2 hashes. Designed by the NSA in 2001, released royalty-free: \"The SHA-2 family consists of six hash functions with digests (hash values) that are 224, 256, 384 or 512 bits: SHA-224, SHA-256, SHA-384, SHA-512, SHA-512/224, SHA-512/256\". The SHA-3 family of hashes were released in 2015 in addition to SHA-2, not to replace them.\n",
        ">\n",
        ">I will *definitely* want to look more into this later."
      ],
      "metadata": {
        "id": "_SQ8nmvrEHFb"
      }
    },
    {
      "cell_type": "markdown",
      "source": [
        "Now I define the function `split_train_test_by_id`, which will use IDs from the data's ID column and apply whichever `test_set_check` method I chose to determine what is in the test set."
      ],
      "metadata": {
        "id": "l8UQP8ZyCXte"
      }
    },
    {
      "cell_type": "code",
      "source": [
        "def split_train_test_by_id(data, test_ratio, id_column):\n",
        "    ids = data[id_column]\n",
        "    in_test_set = ids.apply(lambda id_: test_set_check(id_, test_ratio))\n",
        "    return data.loc[~in_test_set], data.loc[in_test_set]"
      ],
      "metadata": {
        "id": "eFGlY2MXAFGS"
      },
      "execution_count": 13,
      "outputs": []
    },
    {
      "cell_type": "markdown",
      "source": [
        "***Note***: *This [site](https://stackabuse.com/lambda-functions-in-python/) was pretty descriptive in how to use lambda functions in Python, so I'll read up on that later.*"
      ],
      "metadata": {
        "id": "6C9_Ipw15w6G"
      }
    },
    {
      "cell_type": "markdown",
      "source": [
        "My dataset does not have an ID column! I need to give it one. For example, I could use this code to add an \"index\" column to use as the ID:\n",
        "```\n",
        "housing_with_id = housing.reset_index()  # adds an `index` column\n",
        "train_set, test_set = split_train_test_by_id(housing_with_id, 0.2, \"index\")\n",
        "```\n",
        "That would work, but only if new data is appended to the end of the dataset and no row ever gets deleted. That's a lot of *ifs*. In my experience, the data load part of the process often gets shifted to someone else, which means those errors are very likely to occur.\n",
        "\n",
        "Instead, I'll create IDs using the more stable features of latitude and longitude values for each district:"
      ],
      "metadata": {
        "id": "3rbMMCSNDdl9"
      }
    },
    {
      "cell_type": "code",
      "source": [
        "housing_with_id = housing.reset_index() # adds an `index` column\n",
        "housing_with_id[\"id\"] = housing[\"longitude\"] * 1000 + housing[\"latitude\"]\n",
        "train_set, test_set = split_train_test_by_id(housing_with_id, 0.2, \"id\")"
      ],
      "metadata": {
        "id": "i7fkSU6YD3iN"
      },
      "execution_count": 14,
      "outputs": []
    },
    {
      "cell_type": "code",
      "source": [
        "test_set.head()"
>>>>>>> 73846309baea899d7a66be95a13424488ccfe9cc
      ],
      "metadata": {
        "colab": {
          "base_uri": "https://localhost:8080/",
          "height": 206
        },
        "id": "0i7_x9mDdpSp",
        "outputId": "6d5293c7-7e41-416b-d464-5a5c34a455d4"
      },
      "execution_count": 15,
      "outputs": [
        {
          "output_type": "execute_result",
          "data": {
            "text/html": [
              "\n",
              "  <div id=\"df-4351a644-3455-4988-82c4-44d40a863800\">\n",
              "    <div class=\"colab-df-container\">\n",
              "      <div>\n",
              "<style scoped>\n",
              "    .dataframe tbody tr th:only-of-type {\n",
              "        vertical-align: middle;\n",
              "    }\n",
              "\n",
              "    .dataframe tbody tr th {\n",
              "        vertical-align: top;\n",
              "    }\n",
              "\n",
              "    .dataframe thead th {\n",
              "        text-align: right;\n",
              "    }\n",
              "</style>\n",
              "<table border=\"1\" class=\"dataframe\">\n",
              "  <thead>\n",
              "    <tr style=\"text-align: right;\">\n",
              "      <th></th>\n",
              "      <th>index</th>\n",
              "      <th>longitude</th>\n",
              "      <th>latitude</th>\n",
              "      <th>housing_median_age</th>\n",
              "      <th>total_rooms</th>\n",
              "      <th>total_bedrooms</th>\n",
              "      <th>population</th>\n",
              "      <th>households</th>\n",
              "      <th>median_income</th>\n",
              "      <th>median_house_value</th>\n",
              "      <th>ocean_proximity</th>\n",
              "      <th>id</th>\n",
              "    </tr>\n",
              "  </thead>\n",
              "  <tbody>\n",
              "    <tr>\n",
              "      <th>8</th>\n",
              "      <td>8</td>\n",
              "      <td>-122.26</td>\n",
              "      <td>37.84</td>\n",
              "      <td>42.0</td>\n",
              "      <td>2555.0</td>\n",
              "      <td>665.0</td>\n",
              "      <td>1206.0</td>\n",
              "      <td>595.0</td>\n",
              "      <td>2.0804</td>\n",
              "      <td>226700.0</td>\n",
              "      <td>NEAR BAY</td>\n",
              "      <td>-122222.16</td>\n",
              "    </tr>\n",
              "    <tr>\n",
              "      <th>10</th>\n",
              "      <td>10</td>\n",
              "      <td>-122.26</td>\n",
              "      <td>37.85</td>\n",
              "      <td>52.0</td>\n",
              "      <td>2202.0</td>\n",
              "      <td>434.0</td>\n",
              "      <td>910.0</td>\n",
              "      <td>402.0</td>\n",
              "      <td>3.2031</td>\n",
              "      <td>281500.0</td>\n",
              "      <td>NEAR BAY</td>\n",
              "      <td>-122222.15</td>\n",
              "    </tr>\n",
              "    <tr>\n",
              "      <th>11</th>\n",
              "      <td>11</td>\n",
              "      <td>-122.26</td>\n",
              "      <td>37.85</td>\n",
              "      <td>52.0</td>\n",
              "      <td>3503.0</td>\n",
              "      <td>752.0</td>\n",
              "      <td>1504.0</td>\n",
              "      <td>734.0</td>\n",
              "      <td>3.2705</td>\n",
              "      <td>241800.0</td>\n",
              "      <td>NEAR BAY</td>\n",
              "      <td>-122222.15</td>\n",
              "    </tr>\n",
              "    <tr>\n",
              "      <th>12</th>\n",
              "      <td>12</td>\n",
              "      <td>-122.26</td>\n",
              "      <td>37.85</td>\n",
              "      <td>52.0</td>\n",
              "      <td>2491.0</td>\n",
              "      <td>474.0</td>\n",
              "      <td>1098.0</td>\n",
              "      <td>468.0</td>\n",
              "      <td>3.0750</td>\n",
              "      <td>213500.0</td>\n",
              "      <td>NEAR BAY</td>\n",
              "      <td>-122222.15</td>\n",
              "    </tr>\n",
              "    <tr>\n",
              "      <th>13</th>\n",
              "      <td>13</td>\n",
              "      <td>-122.26</td>\n",
              "      <td>37.84</td>\n",
              "      <td>52.0</td>\n",
              "      <td>696.0</td>\n",
              "      <td>191.0</td>\n",
              "      <td>345.0</td>\n",
              "      <td>174.0</td>\n",
              "      <td>2.6736</td>\n",
              "      <td>191300.0</td>\n",
              "      <td>NEAR BAY</td>\n",
              "      <td>-122222.16</td>\n",
              "    </tr>\n",
              "  </tbody>\n",
              "</table>\n",
              "</div>\n",
              "      <button class=\"colab-df-convert\" onclick=\"convertToInteractive('df-4351a644-3455-4988-82c4-44d40a863800')\"\n",
              "              title=\"Convert this dataframe to an interactive table.\"\n",
              "              style=\"display:none;\">\n",
              "        \n",
              "  <svg xmlns=\"http://www.w3.org/2000/svg\" height=\"24px\"viewBox=\"0 0 24 24\"\n",
              "       width=\"24px\">\n",
              "    <path d=\"M0 0h24v24H0V0z\" fill=\"none\"/>\n",
              "    <path d=\"M18.56 5.44l.94 2.06.94-2.06 2.06-.94-2.06-.94-.94-2.06-.94 2.06-2.06.94zm-11 1L8.5 8.5l.94-2.06 2.06-.94-2.06-.94L8.5 2.5l-.94 2.06-2.06.94zm10 10l.94 2.06.94-2.06 2.06-.94-2.06-.94-.94-2.06-.94 2.06-2.06.94z\"/><path d=\"M17.41 7.96l-1.37-1.37c-.4-.4-.92-.59-1.43-.59-.52 0-1.04.2-1.43.59L10.3 9.45l-7.72 7.72c-.78.78-.78 2.05 0 2.83L4 21.41c.39.39.9.59 1.41.59.51 0 1.02-.2 1.41-.59l7.78-7.78 2.81-2.81c.8-.78.8-2.07 0-2.86zM5.41 20L4 18.59l7.72-7.72 1.47 1.35L5.41 20z\"/>\n",
              "  </svg>\n",
              "      </button>\n",
              "      \n",
              "  <style>\n",
              "    .colab-df-container {\n",
              "      display:flex;\n",
              "      flex-wrap:wrap;\n",
              "      gap: 12px;\n",
              "    }\n",
              "\n",
              "    .colab-df-convert {\n",
              "      background-color: #E8F0FE;\n",
              "      border: none;\n",
              "      border-radius: 50%;\n",
              "      cursor: pointer;\n",
              "      display: none;\n",
              "      fill: #1967D2;\n",
              "      height: 32px;\n",
              "      padding: 0 0 0 0;\n",
              "      width: 32px;\n",
              "    }\n",
              "\n",
              "    .colab-df-convert:hover {\n",
              "      background-color: #E2EBFA;\n",
              "      box-shadow: 0px 1px 2px rgba(60, 64, 67, 0.3), 0px 1px 3px 1px rgba(60, 64, 67, 0.15);\n",
              "      fill: #174EA6;\n",
              "    }\n",
              "\n",
              "    [theme=dark] .colab-df-convert {\n",
              "      background-color: #3B4455;\n",
              "      fill: #D2E3FC;\n",
              "    }\n",
              "\n",
              "    [theme=dark] .colab-df-convert:hover {\n",
              "      background-color: #434B5C;\n",
              "      box-shadow: 0px 1px 3px 1px rgba(0, 0, 0, 0.15);\n",
              "      filter: drop-shadow(0px 1px 2px rgba(0, 0, 0, 0.3));\n",
              "      fill: #FFFFFF;\n",
              "    }\n",
              "  </style>\n",
              "\n",
              "      <script>\n",
              "        const buttonEl =\n",
              "          document.querySelector('#df-4351a644-3455-4988-82c4-44d40a863800 button.colab-df-convert');\n",
              "        buttonEl.style.display =\n",
              "          google.colab.kernel.accessAllowed ? 'block' : 'none';\n",
              "\n",
              "        async function convertToInteractive(key) {\n",
              "          const element = document.querySelector('#df-4351a644-3455-4988-82c4-44d40a863800');\n",
              "          const dataTable =\n",
              "            await google.colab.kernel.invokeFunction('convertToInteractive',\n",
              "                                                     [key], {});\n",
              "          if (!dataTable) return;\n",
              "\n",
              "          const docLinkHtml = 'Like what you see? Visit the ' +\n",
              "            '<a target=\"_blank\" href=https://colab.research.google.com/notebooks/data_table.ipynb>data table notebook</a>'\n",
              "            + ' to learn more about interactive tables.';\n",
              "          element.innerHTML = '';\n",
              "          dataTable['output_type'] = 'display_data';\n",
              "          await google.colab.output.renderOutput(dataTable, element);\n",
              "          const docLink = document.createElement('div');\n",
              "          docLink.innerHTML = docLinkHtml;\n",
              "          element.appendChild(docLink);\n",
              "        }\n",
              "      </script>\n",
              "    </div>\n",
              "  </div>\n",
              "  "
            ],
            "text/plain": [
              "    index  longitude  latitude  ...  median_house_value  ocean_proximity         id\n",
              "8       8    -122.26     37.84  ...            226700.0         NEAR BAY -122222.16\n",
              "10     10    -122.26     37.85  ...            281500.0         NEAR BAY -122222.15\n",
              "11     11    -122.26     37.85  ...            241800.0         NEAR BAY -122222.15\n",
              "12     12    -122.26     37.85  ...            213500.0         NEAR BAY -122222.15\n",
              "13     13    -122.26     37.84  ...            191300.0         NEAR BAY -122222.16\n",
              "\n",
              "[5 rows x 12 columns]"
            ]
          },
          "metadata": {},
          "execution_count": 15
        }
      ]
<<<<<<< HEAD
     },
     "execution_count": 17,
     "metadata": {},
     "output_type": "execute_result"
=======
      "cell_type": "markdown",
      "source": [
        "## Method 3: Split Data Using Random Sampling on Unique IDs"
      ],
      "metadata": {
        "id": "JfaZXxo5IG95"
      }
    },
    {
      "cell_type": "markdown",
      "source": [
        "Method #3 uses unique, consistent IDs. This means it won't break when we fetch an updated dataset.\n",
        "\n",
        "Geron's walkthrough uses the following to define the `test_set_check` function to define hash ids in the data. This solution does not seem to support any hash functions, but is compatible with Python 2 and 3:\n",
        "\n",
        "```\n",
        "from zlib import crc32\n",
        "\n",
        "def test_set_check(identifier, test_ratio):\n",
        "    return crc32(np.int64(identifier)) & 0xffffffff < test_ratio * 2**32\n",
        "```"
      ],
      "metadata": {
        "id": "7eDY-zQd8bf6"
      }
    },
    {
      "cell_type": "markdown",
      "source": [
        "The one my book gives supports any hash function but runs slower and does not support Python 2:\n",
        "\n",
        "```\n",
        "import hashlib\n",
        "\n",
        "def test_set_check(identifier, test_ratio, hash):  \n",
        "  return hash(np.int64(identifier)).digest()[-1] < 256 * test_ratio\n",
        "```"
      ],
      "metadata": {
        "id": "tByYPA_u9X-v"
      }
    },
    {
      "cell_type": "markdown",
      "source": [
        "This is the updated version, which supports any hash and is compatible with Python 2 and 3:"
      ],
      "metadata": {
        "id": "67kNMC56CJ9S"
      }
    },
    {
      "cell_type": "code",
      "source": [
        "import hashlib\n",
        "\n",
        "def test_set_check(identifier, test_ratio, hash=hashlib.md5):\n",
        "    return bytearray(hash(np.int64(identifier)).digest())[-1] < 256 * test_ratio"
      ],
      "metadata": {
        "id": "GwdxYhMQ_FBz"
      },
      "execution_count": 33,
      "outputs": []
    },
    {
      "cell_type": "markdown",
      "source": [
        "***Side Bar: Hash Tables are Cool***\n",
        "\n",
        ">I dove down a Wiki rabbit hole on cryptographic hash functions that I fully intend to revisit because they are super cool.\n",
        ">   \n",
        ">This article by Vaidehi Joshi links to a [podcast episode](https://www.codenewbie.org/basecs/28) that introduced me to hash tables: [Taking Hash Tables Off the Shelf](https://medium.com/basecs/taking-hash-tables-off-the-shelf-139cbf4752f0). It describes hash tables as an alternative to linked lists, arrays, and stacks, because in order to search through those you need to look at each instance in them to find the one you're looking for. This means searching for something in them ends up being in *linear time*, or O(n). Using a hash function to place or interact with a value/instance in the array/table allows us to work in *constant time*, or O(1). There is nothing to look at before or after the value itself because of the hash function.\n",
        ">\n",
        ">This sounds so much like cryptography. I've heard of security experts needing to know about \"hashing\". I think this is the connection. My data tables hold information in specific spots you can find if you know the hash function that placed them there. When you create a code, you use equations to transform a value into its symbolic equal in some way, or at least map out how to find it - that's encoding, cryptography, encryption. That sounds very much like what we're doing here on a smaller scale: Hash tables help me find what I'm looking for. They can also be used to hide information so that only I can find it.\n",
        ">\n",
        ">Here's the [wiki article](https://en.wikipedia.org/wiki/SHA-2) on SHA-2 hashes. Designed by the NSA in 2001, released royalty-free: \"The SHA-2 family consists of six hash functions with digests (hash values) that are 224, 256, 384 or 512 bits: SHA-224, SHA-256, SHA-384, SHA-512, SHA-512/224, SHA-512/256\". The SHA-3 family of hashes were released in 2015 in addition to SHA-2, not to replace them.\n",
        ">\n",
        ">I will *definitely* want to look more into this later."
      ],
      "metadata": {
        "id": "_SQ8nmvrEHFb"
      }
    },
    {
      "cell_type": "markdown",
      "source": [
        "Now I define the function `split_train_test_by_id`, which will use IDs from the data's ID column and apply whichever `test_set_check` method I chose to determine what is in the test set."
      ],
      "metadata": {
        "id": "l8UQP8ZyCXte"
      }
    },
    {
      "cell_type": "code",
      "source": [
        "def split_train_test_by_id(data, test_ratio, id_column):\n",
        "    ids = data[id_column]\n",
        "    in_test_set = ids.apply(lambda id_: test_set_check(id_, test_ratio))\n",
        "    return data.loc[~in_test_set], data.loc[in_test_set]"
      ],
      "metadata": {
        "id": "eFGlY2MXAFGS"
      },
      "execution_count": 34,
      "outputs": []
    },
    {
      "cell_type": "markdown",
      "source": [
        "***Note***: *This [site](https://stackabuse.com/lambda-functions-in-python/) was pretty descriptive in how to use lambda functions in Python, so I'll read up on that later.*"
      ],
      "metadata": {
        "id": "6C9_Ipw15w6G"
      }
    },
    {
      "cell_type": "markdown",
      "source": [
        "My dataset does not have an ID column! I need to give it one. For example, I could use this code to add an \"index\" column to use as the ID:\n",
        "```\n",
        "housing_with_id = housing.reset_index()  # adds an `index` column\n",
        "train_set, test_set = split_train_test_by_id(housing_with_id, 0.2, \"index\")\n",
        "```\n",
        "That would work, but only if new data is appended to the end of the dataset and no row ever gets deleted. That's a lot of *ifs*. In my experience, the data load part of the process often gets shifted to someone else, which means those errors are very likely to occur.\n",
        "\n",
        "Instead, I'll create IDs using the more stable features of latitude and longitude values for each district:"
      ],
      "metadata": {
        "id": "3rbMMCSNDdl9"
      }
    },
    {
      "cell_type": "code",
      "source": [
        "housing_with_id = housing.reset_index() # adds an `index` column\n",
        "housing_with_id[\"id\"] = housing[\"longitude\"] * 1000 + housing[\"latitude\"]\n",
        "train_set, test_set = split_train_test_by_id(housing_with_id, 0.2, \"id\")"
      ],
      "metadata": {
        "id": "i7fkSU6YD3iN"
      },
      "execution_count": 35,
      "outputs": []
    },
    {
      "cell_type": "code",
      "source": [
        "test_set.head()"
      ],
      "metadata": {
        "colab": {
          "base_uri": "https://localhost:8080/",
          "height": 270
        },
        "id": "0i7_x9mDdpSp",
        "outputId": "a726bcde-cc85-4309-bb26-e705e031b6cd"
      },
      "execution_count": 36,
      "outputs": [
        {
          "output_type": "execute_result",
          "data": {
            "text/html": [
              "\n",
              "  <div id=\"df-0875218c-94e7-4874-87c5-7027d08f5955\">\n",
              "    <div class=\"colab-df-container\">\n",
              "      <div>\n",
              "<style scoped>\n",
              "    .dataframe tbody tr th:only-of-type {\n",
              "        vertical-align: middle;\n",
              "    }\n",
              "\n",
              "    .dataframe tbody tr th {\n",
              "        vertical-align: top;\n",
              "    }\n",
              "\n",
              "    .dataframe thead th {\n",
              "        text-align: right;\n",
              "    }\n",
              "</style>\n",
              "<table border=\"1\" class=\"dataframe\">\n",
              "  <thead>\n",
              "    <tr style=\"text-align: right;\">\n",
              "      <th></th>\n",
              "      <th>index</th>\n",
              "      <th>longitude</th>\n",
              "      <th>latitude</th>\n",
              "      <th>housing_median_age</th>\n",
              "      <th>total_rooms</th>\n",
              "      <th>total_bedrooms</th>\n",
              "      <th>population</th>\n",
              "      <th>households</th>\n",
              "      <th>median_income</th>\n",
              "      <th>median_house_value</th>\n",
              "      <th>ocean_proximity</th>\n",
              "      <th>id</th>\n",
              "    </tr>\n",
              "  </thead>\n",
              "  <tbody>\n",
              "    <tr>\n",
              "      <th>8</th>\n",
              "      <td>8</td>\n",
              "      <td>-122.26</td>\n",
              "      <td>37.84</td>\n",
              "      <td>42.0</td>\n",
              "      <td>2555.0</td>\n",
              "      <td>665.0</td>\n",
              "      <td>1206.0</td>\n",
              "      <td>595.0</td>\n",
              "      <td>2.0804</td>\n",
              "      <td>226700.0</td>\n",
              "      <td>NEAR BAY</td>\n",
              "      <td>-122222.16</td>\n",
              "    </tr>\n",
              "    <tr>\n",
              "      <th>10</th>\n",
              "      <td>10</td>\n",
              "      <td>-122.26</td>\n",
              "      <td>37.85</td>\n",
              "      <td>52.0</td>\n",
              "      <td>2202.0</td>\n",
              "      <td>434.0</td>\n",
              "      <td>910.0</td>\n",
              "      <td>402.0</td>\n",
              "      <td>3.2031</td>\n",
              "      <td>281500.0</td>\n",
              "      <td>NEAR BAY</td>\n",
              "      <td>-122222.15</td>\n",
              "    </tr>\n",
              "    <tr>\n",
              "      <th>11</th>\n",
              "      <td>11</td>\n",
              "      <td>-122.26</td>\n",
              "      <td>37.85</td>\n",
              "      <td>52.0</td>\n",
              "      <td>3503.0</td>\n",
              "      <td>752.0</td>\n",
              "      <td>1504.0</td>\n",
              "      <td>734.0</td>\n",
              "      <td>3.2705</td>\n",
              "      <td>241800.0</td>\n",
              "      <td>NEAR BAY</td>\n",
              "      <td>-122222.15</td>\n",
              "    </tr>\n",
              "    <tr>\n",
              "      <th>12</th>\n",
              "      <td>12</td>\n",
              "      <td>-122.26</td>\n",
              "      <td>37.85</td>\n",
              "      <td>52.0</td>\n",
              "      <td>2491.0</td>\n",
              "      <td>474.0</td>\n",
              "      <td>1098.0</td>\n",
              "      <td>468.0</td>\n",
              "      <td>3.0750</td>\n",
              "      <td>213500.0</td>\n",
              "      <td>NEAR BAY</td>\n",
              "      <td>-122222.15</td>\n",
              "    </tr>\n",
              "    <tr>\n",
              "      <th>13</th>\n",
              "      <td>13</td>\n",
              "      <td>-122.26</td>\n",
              "      <td>37.84</td>\n",
              "      <td>52.0</td>\n",
              "      <td>696.0</td>\n",
              "      <td>191.0</td>\n",
              "      <td>345.0</td>\n",
              "      <td>174.0</td>\n",
              "      <td>2.6736</td>\n",
              "      <td>191300.0</td>\n",
              "      <td>NEAR BAY</td>\n",
              "      <td>-122222.16</td>\n",
              "    </tr>\n",
              "  </tbody>\n",
              "</table>\n",
              "</div>\n",
              "      <button class=\"colab-df-convert\" onclick=\"convertToInteractive('df-0875218c-94e7-4874-87c5-7027d08f5955')\"\n",
              "              title=\"Convert this dataframe to an interactive table.\"\n",
              "              style=\"display:none;\">\n",
              "        \n",
              "  <svg xmlns=\"http://www.w3.org/2000/svg\" height=\"24px\"viewBox=\"0 0 24 24\"\n",
              "       width=\"24px\">\n",
              "    <path d=\"M0 0h24v24H0V0z\" fill=\"none\"/>\n",
              "    <path d=\"M18.56 5.44l.94 2.06.94-2.06 2.06-.94-2.06-.94-.94-2.06-.94 2.06-2.06.94zm-11 1L8.5 8.5l.94-2.06 2.06-.94-2.06-.94L8.5 2.5l-.94 2.06-2.06.94zm10 10l.94 2.06.94-2.06 2.06-.94-2.06-.94-.94-2.06-.94 2.06-2.06.94z\"/><path d=\"M17.41 7.96l-1.37-1.37c-.4-.4-.92-.59-1.43-.59-.52 0-1.04.2-1.43.59L10.3 9.45l-7.72 7.72c-.78.78-.78 2.05 0 2.83L4 21.41c.39.39.9.59 1.41.59.51 0 1.02-.2 1.41-.59l7.78-7.78 2.81-2.81c.8-.78.8-2.07 0-2.86zM5.41 20L4 18.59l7.72-7.72 1.47 1.35L5.41 20z\"/>\n",
              "  </svg>\n",
              "      </button>\n",
              "      \n",
              "  <style>\n",
              "    .colab-df-container {\n",
              "      display:flex;\n",
              "      flex-wrap:wrap;\n",
              "      gap: 12px;\n",
              "    }\n",
              "\n",
              "    .colab-df-convert {\n",
              "      background-color: #E8F0FE;\n",
              "      border: none;\n",
              "      border-radius: 50%;\n",
              "      cursor: pointer;\n",
              "      display: none;\n",
              "      fill: #1967D2;\n",
              "      height: 32px;\n",
              "      padding: 0 0 0 0;\n",
              "      width: 32px;\n",
              "    }\n",
              "\n",
              "    .colab-df-convert:hover {\n",
              "      background-color: #E2EBFA;\n",
              "      box-shadow: 0px 1px 2px rgba(60, 64, 67, 0.3), 0px 1px 3px 1px rgba(60, 64, 67, 0.15);\n",
              "      fill: #174EA6;\n",
              "    }\n",
              "\n",
              "    [theme=dark] .colab-df-convert {\n",
              "      background-color: #3B4455;\n",
              "      fill: #D2E3FC;\n",
              "    }\n",
              "\n",
              "    [theme=dark] .colab-df-convert:hover {\n",
              "      background-color: #434B5C;\n",
              "      box-shadow: 0px 1px 3px 1px rgba(0, 0, 0, 0.15);\n",
              "      filter: drop-shadow(0px 1px 2px rgba(0, 0, 0, 0.3));\n",
              "      fill: #FFFFFF;\n",
              "    }\n",
              "  </style>\n",
              "\n",
              "      <script>\n",
              "        const buttonEl =\n",
              "          document.querySelector('#df-0875218c-94e7-4874-87c5-7027d08f5955 button.colab-df-convert');\n",
              "        buttonEl.style.display =\n",
              "          google.colab.kernel.accessAllowed ? 'block' : 'none';\n",
              "\n",
              "        async function convertToInteractive(key) {\n",
              "          const element = document.querySelector('#df-0875218c-94e7-4874-87c5-7027d08f5955');\n",
              "          const dataTable =\n",
              "            await google.colab.kernel.invokeFunction('convertToInteractive',\n",
              "                                                     [key], {});\n",
              "          if (!dataTable) return;\n",
              "\n",
              "          const docLinkHtml = 'Like what you see? Visit the ' +\n",
              "            '<a target=\"_blank\" href=https://colab.research.google.com/notebooks/data_table.ipynb>data table notebook</a>'\n",
              "            + ' to learn more about interactive tables.';\n",
              "          element.innerHTML = '';\n",
              "          dataTable['output_type'] = 'display_data';\n",
              "          await google.colab.output.renderOutput(dataTable, element);\n",
              "          const docLink = document.createElement('div');\n",
              "          docLink.innerHTML = docLinkHtml;\n",
              "          element.appendChild(docLink);\n",
              "        }\n",
              "      </script>\n",
              "    </div>\n",
              "  </div>\n",
              "  "
            ],
            "text/plain": [
              "    index  longitude  latitude  ...  median_house_value  ocean_proximity         id\n",
              "8       8    -122.26     37.84  ...            226700.0         NEAR BAY -122222.16\n",
              "10     10    -122.26     37.85  ...            281500.0         NEAR BAY -122222.15\n",
              "11     11    -122.26     37.85  ...            241800.0         NEAR BAY -122222.15\n",
              "12     12    -122.26     37.85  ...            213500.0         NEAR BAY -122222.15\n",
              "13     13    -122.26     37.84  ...            191300.0         NEAR BAY -122222.16\n",
              "\n",
              "[5 rows x 12 columns]"
            ]
          },
          "metadata": {},
          "execution_count": 36
        }
      ]
=======
>>>>>>> 73846309baea899d7a66be95a13424488ccfe9cc
    },
    {
      "cell_type": "code",
      "source": [
        "# I'm curious about this test set vs the one I create using train_test_split\n",
        "\n",
        "test_set.info()"
      ],
      "metadata": {
        "colab": {
          "base_uri": "https://localhost:8080/"
        },
        "id": "8c-dQJw04zZN",
<<<<<<< HEAD
        "outputId": "e90d333e-cfc5-4491-91f9-3c80a8b76466"
      },
      "execution_count": 40,
=======
        "outputId": "e288e78f-3036-4859-b56d-5930b95f58e4"
      },
      "execution_count": 16,
>>>>>>> 73846309baea899d7a66be95a13424488ccfe9cc
      "outputs": [
        {
          "output_type": "stream",
          "name": "stdout",
          "text": [
            "<class 'pandas.core.frame.DataFrame'>\n",
            "Int64Index: 4373 entries, 8 to 20636\n",
            "Data columns (total 12 columns):\n",
            " #   Column              Non-Null Count  Dtype  \n",
            "---  ------              --------------  -----  \n",
            " 0   index               4373 non-null   int64  \n",
            " 1   longitude           4373 non-null   float64\n",
            " 2   latitude            4373 non-null   float64\n",
            " 3   housing_median_age  4373 non-null   float64\n",
            " 4   total_rooms         4373 non-null   float64\n",
            " 5   total_bedrooms      4325 non-null   float64\n",
            " 6   population          4373 non-null   float64\n",
            " 7   households          4373 non-null   float64\n",
            " 8   median_income       4373 non-null   float64\n",
            " 9   median_house_value  4373 non-null   float64\n",
            " 10  ocean_proximity     4373 non-null   object \n",
            " 11  id                  4373 non-null   float64\n",
            "dtypes: float64(10), int64(1), object(1)\n",
            "memory usage: 444.1+ KB\n"
          ]
        }
      ]
    },
    {
      "cell_type": "code",
      "source": [
        "from sklearn.model_selection import train_test_split\n",
        "\n",
        "train_set, test_set = train_test_split(housing, test_size=0.2, random_state=42)"
      ],
      "metadata": {
        "id": "zCzG-HRZ4Ncx"
      },
<<<<<<< HEAD
      "execution_count": 41,
=======
      "execution_count": 17,
>>>>>>> 73846309baea899d7a66be95a13424488ccfe9cc
      "outputs": []
    },
    {
      "cell_type": "code",
      "source": [
        "test_set.head()"
      ],
      "metadata": {
        "colab": {
          "base_uri": "https://localhost:8080/",
          "height": 206
        },
        "id": "NDeeHMdP4QBU",
<<<<<<< HEAD
        "outputId": "5c7caec9-94b0-4d05-d8b5-a24bcd2b6982"
      },
      "execution_count": 42,
=======
        "outputId": "11c040ca-2f53-41a2-ecfa-c4810558725f"
      },
      "execution_count": 18,
>>>>>>> 73846309baea899d7a66be95a13424488ccfe9cc
      "outputs": [
        {
          "output_type": "execute_result",
          "data": {
            "text/html": [
              "\n",
<<<<<<< HEAD
              "  <div id=\"df-38d6dc9d-91c8-4b00-9916-f3aa72bad2c6\">\n",
=======
              "  <div id=\"df-a458a38a-99ce-46ab-bba0-8940b3c3684e\">\n",
>>>>>>> 73846309baea899d7a66be95a13424488ccfe9cc
              "    <div class=\"colab-df-container\">\n",
              "      <div>\n",
              "<style scoped>\n",
              "    .dataframe tbody tr th:only-of-type {\n",
              "        vertical-align: middle;\n",
              "    }\n",
              "\n",
              "    .dataframe tbody tr th {\n",
              "        vertical-align: top;\n",
              "    }\n",
              "\n",
              "    .dataframe thead th {\n",
              "        text-align: right;\n",
              "    }\n",
              "</style>\n",
              "<table border=\"1\" class=\"dataframe\">\n",
              "  <thead>\n",
              "    <tr style=\"text-align: right;\">\n",
              "      <th></th>\n",
              "      <th>longitude</th>\n",
              "      <th>latitude</th>\n",
              "      <th>housing_median_age</th>\n",
              "      <th>total_rooms</th>\n",
              "      <th>total_bedrooms</th>\n",
              "      <th>population</th>\n",
              "      <th>households</th>\n",
              "      <th>median_income</th>\n",
              "      <th>median_house_value</th>\n",
              "      <th>ocean_proximity</th>\n",
              "    </tr>\n",
              "  </thead>\n",
              "  <tbody>\n",
              "    <tr>\n",
              "      <th>20046</th>\n",
              "      <td>-119.01</td>\n",
              "      <td>36.06</td>\n",
              "      <td>25.0</td>\n",
              "      <td>1505.0</td>\n",
              "      <td>NaN</td>\n",
              "      <td>1392.0</td>\n",
              "      <td>359.0</td>\n",
              "      <td>1.6812</td>\n",
              "      <td>47700.0</td>\n",
              "      <td>INLAND</td>\n",
              "    </tr>\n",
              "    <tr>\n",
              "      <th>3024</th>\n",
              "      <td>-119.46</td>\n",
              "      <td>35.14</td>\n",
              "      <td>30.0</td>\n",
              "      <td>2943.0</td>\n",
              "      <td>NaN</td>\n",
              "      <td>1565.0</td>\n",
              "      <td>584.0</td>\n",
              "      <td>2.5313</td>\n",
              "      <td>45800.0</td>\n",
              "      <td>INLAND</td>\n",
              "    </tr>\n",
              "    <tr>\n",
              "      <th>15663</th>\n",
              "      <td>-122.44</td>\n",
              "      <td>37.80</td>\n",
              "      <td>52.0</td>\n",
              "      <td>3830.0</td>\n",
              "      <td>NaN</td>\n",
              "      <td>1310.0</td>\n",
              "      <td>963.0</td>\n",
              "      <td>3.4801</td>\n",
              "      <td>500001.0</td>\n",
              "      <td>NEAR BAY</td>\n",
              "    </tr>\n",
              "    <tr>\n",
              "      <th>20484</th>\n",
              "      <td>-118.72</td>\n",
              "      <td>34.28</td>\n",
              "      <td>17.0</td>\n",
              "      <td>3051.0</td>\n",
              "      <td>NaN</td>\n",
              "      <td>1705.0</td>\n",
              "      <td>495.0</td>\n",
              "      <td>5.7376</td>\n",
              "      <td>218600.0</td>\n",
              "      <td>&lt;1H OCEAN</td>\n",
              "    </tr>\n",
              "    <tr>\n",
              "      <th>9814</th>\n",
              "      <td>-121.93</td>\n",
              "      <td>36.62</td>\n",
              "      <td>34.0</td>\n",
              "      <td>2351.0</td>\n",
              "      <td>NaN</td>\n",
              "      <td>1063.0</td>\n",
              "      <td>428.0</td>\n",
              "      <td>3.7250</td>\n",
              "      <td>278000.0</td>\n",
              "      <td>NEAR OCEAN</td>\n",
              "    </tr>\n",
              "  </tbody>\n",
              "</table>\n",
              "</div>\n",
<<<<<<< HEAD
              "      <button class=\"colab-df-convert\" onclick=\"convertToInteractive('df-38d6dc9d-91c8-4b00-9916-f3aa72bad2c6')\"\n",
=======
              "      <button class=\"colab-df-convert\" onclick=\"convertToInteractive('df-a458a38a-99ce-46ab-bba0-8940b3c3684e')\"\n",
>>>>>>> 73846309baea899d7a66be95a13424488ccfe9cc
              "              title=\"Convert this dataframe to an interactive table.\"\n",
              "              style=\"display:none;\">\n",
              "        \n",
              "  <svg xmlns=\"http://www.w3.org/2000/svg\" height=\"24px\"viewBox=\"0 0 24 24\"\n",
              "       width=\"24px\">\n",
              "    <path d=\"M0 0h24v24H0V0z\" fill=\"none\"/>\n",
              "    <path d=\"M18.56 5.44l.94 2.06.94-2.06 2.06-.94-2.06-.94-.94-2.06-.94 2.06-2.06.94zm-11 1L8.5 8.5l.94-2.06 2.06-.94-2.06-.94L8.5 2.5l-.94 2.06-2.06.94zm10 10l.94 2.06.94-2.06 2.06-.94-2.06-.94-.94-2.06-.94 2.06-2.06.94z\"/><path d=\"M17.41 7.96l-1.37-1.37c-.4-.4-.92-.59-1.43-.59-.52 0-1.04.2-1.43.59L10.3 9.45l-7.72 7.72c-.78.78-.78 2.05 0 2.83L4 21.41c.39.39.9.59 1.41.59.51 0 1.02-.2 1.41-.59l7.78-7.78 2.81-2.81c.8-.78.8-2.07 0-2.86zM5.41 20L4 18.59l7.72-7.72 1.47 1.35L5.41 20z\"/>\n",
              "  </svg>\n",
              "      </button>\n",
              "      \n",
              "  <style>\n",
              "    .colab-df-container {\n",
              "      display:flex;\n",
              "      flex-wrap:wrap;\n",
              "      gap: 12px;\n",
              "    }\n",
              "\n",
              "    .colab-df-convert {\n",
              "      background-color: #E8F0FE;\n",
              "      border: none;\n",
              "      border-radius: 50%;\n",
              "      cursor: pointer;\n",
              "      display: none;\n",
              "      fill: #1967D2;\n",
              "      height: 32px;\n",
              "      padding: 0 0 0 0;\n",
              "      width: 32px;\n",
              "    }\n",
              "\n",
              "    .colab-df-convert:hover {\n",
              "      background-color: #E2EBFA;\n",
              "      box-shadow: 0px 1px 2px rgba(60, 64, 67, 0.3), 0px 1px 3px 1px rgba(60, 64, 67, 0.15);\n",
              "      fill: #174EA6;\n",
              "    }\n",
              "\n",
              "    [theme=dark] .colab-df-convert {\n",
              "      background-color: #3B4455;\n",
              "      fill: #D2E3FC;\n",
              "    }\n",
              "\n",
              "    [theme=dark] .colab-df-convert:hover {\n",
              "      background-color: #434B5C;\n",
              "      box-shadow: 0px 1px 3px 1px rgba(0, 0, 0, 0.15);\n",
              "      filter: drop-shadow(0px 1px 2px rgba(0, 0, 0, 0.3));\n",
              "      fill: #FFFFFF;\n",
              "    }\n",
              "  </style>\n",
              "\n",
              "      <script>\n",
              "        const buttonEl =\n",
<<<<<<< HEAD
              "          document.querySelector('#df-38d6dc9d-91c8-4b00-9916-f3aa72bad2c6 button.colab-df-convert');\n",
=======
              "          document.querySelector('#df-a458a38a-99ce-46ab-bba0-8940b3c3684e button.colab-df-convert');\n",
>>>>>>> 73846309baea899d7a66be95a13424488ccfe9cc
              "        buttonEl.style.display =\n",
              "          google.colab.kernel.accessAllowed ? 'block' : 'none';\n",
              "\n",
              "        async function convertToInteractive(key) {\n",
<<<<<<< HEAD
              "          const element = document.querySelector('#df-38d6dc9d-91c8-4b00-9916-f3aa72bad2c6');\n",
=======
              "          const element = document.querySelector('#df-a458a38a-99ce-46ab-bba0-8940b3c3684e');\n",
>>>>>>> 73846309baea899d7a66be95a13424488ccfe9cc
              "          const dataTable =\n",
              "            await google.colab.kernel.invokeFunction('convertToInteractive',\n",
              "                                                     [key], {});\n",
              "          if (!dataTable) return;\n",
              "\n",
              "          const docLinkHtml = 'Like what you see? Visit the ' +\n",
              "            '<a target=\"_blank\" href=https://colab.research.google.com/notebooks/data_table.ipynb>data table notebook</a>'\n",
              "            + ' to learn more about interactive tables.';\n",
              "          element.innerHTML = '';\n",
              "          dataTable['output_type'] = 'display_data';\n",
              "          await google.colab.output.renderOutput(dataTable, element);\n",
              "          const docLink = document.createElement('div');\n",
              "          docLink.innerHTML = docLinkHtml;\n",
              "          element.appendChild(docLink);\n",
              "        }\n",
              "      </script>\n",
              "    </div>\n",
              "  </div>\n",
              "  "
            ],
            "text/plain": [
              "       longitude  latitude  ...  median_house_value  ocean_proximity\n",
              "20046    -119.01     36.06  ...             47700.0           INLAND\n",
              "3024     -119.46     35.14  ...             45800.0           INLAND\n",
              "15663    -122.44     37.80  ...            500001.0         NEAR BAY\n",
              "20484    -118.72     34.28  ...            218600.0        <1H OCEAN\n",
              "9814     -121.93     36.62  ...            278000.0       NEAR OCEAN\n",
              "\n",
              "[5 rows x 10 columns]"
            ]
          },
          "metadata": {},
<<<<<<< HEAD
          "execution_count": 42
=======
          "execution_count": 18
>>>>>>> 73846309baea899d7a66be95a13424488ccfe9cc
        }
      ]
    },
    {
      "cell_type": "code",
      "source": [
        "test_set.info()"
      ],
      "metadata": {
        "colab": {
          "base_uri": "https://localhost:8080/"
        },
        "id": "SSqTNYP35A6b",
<<<<<<< HEAD
        "outputId": "8b9454f5-24e7-4348-be0e-27ba1d32dbe0"
      },
      "execution_count": 43,
=======
        "outputId": "e702849e-77e0-482b-cb2d-ef5dbe2e288b"
      },
      "execution_count": 19,
>>>>>>> 73846309baea899d7a66be95a13424488ccfe9cc
      "outputs": [
        {
          "output_type": "stream",
          "name": "stdout",
          "text": [
            "<class 'pandas.core.frame.DataFrame'>\n",
            "Int64Index: 4128 entries, 20046 to 3665\n",
            "Data columns (total 10 columns):\n",
            " #   Column              Non-Null Count  Dtype  \n",
            "---  ------              --------------  -----  \n",
            " 0   longitude           4128 non-null   float64\n",
            " 1   latitude            4128 non-null   float64\n",
            " 2   housing_median_age  4128 non-null   float64\n",
            " 3   total_rooms         4128 non-null   float64\n",
            " 4   total_bedrooms      3921 non-null   float64\n",
            " 5   population          4128 non-null   float64\n",
            " 6   households          4128 non-null   float64\n",
            " 7   median_income       4128 non-null   float64\n",
            " 8   median_house_value  4128 non-null   float64\n",
            " 9   ocean_proximity     4128 non-null   object \n",
            "dtypes: float64(9), object(1)\n",
            "memory usage: 354.8+ KB\n"
          ]
        }
      ]
    },
    {
      "cell_type": "markdown",
      "source": [
        "I'm not sure what I did at the end there. test_set before train_test_split seems very similar to after, with just a couple hundred less instances. Mine matches the example from Geron's Github though so I'll keep going and see where it takes me."
      ],
      "metadata": {
        "id": "W5f8OXyO4Hvo"
      }
    },
    {
      "cell_type": "markdown",
      "source": [
        "## Split Data Using Stratified Sampling\n",
        "\n",
        "***Stratified Sampling***: the population is divided into homogeneous subgroups called *strata*, and the right number of instances is sampled from each stratum to guarantee that the test set is representative of the overall population.\n",
        "\n",
        "This is a good thing to do, especially if we are working with a small population. In our case, since we are using the median income to predict median housing prices, we can make sure the test set is representative of the different categories of median income in the population. These categories (buckets) do not exist yet, however. The median income is a continuous (discrete?) numerical attribute. So we'll create them ourselves.\n",
        "\n",
        "First let's look at the histogram of the median attribute more closely."
      ],
      "metadata": {
        "id": "8GO6tLK3NR4a"
      }
    },
    {
      "cell_type": "code",
      "source": [
        "housing[\"median_income\"].hist()"
      ],
      "metadata": {
        "colab": {
          "base_uri": "https://localhost:8080/",
          "height": 285
        },
        "id": "gmNovQVr3Y2e",
<<<<<<< HEAD
        "outputId": "eb5e3ccf-c89d-4e36-b288-762402ff316e"
      },
      "execution_count": 39,
=======
        "outputId": "09760276-f166-4df4-8ad9-c7f04bc697cf"
      },
      "execution_count": 20,
>>>>>>> 73846309baea899d7a66be95a13424488ccfe9cc
      "outputs": [
        {
          "output_type": "execute_result",
          "data": {
            "text/plain": [
<<<<<<< HEAD
              "<matplotlib.axes._subplots.AxesSubplot at 0x7f4c4665b510>"
            ]
          },
          "metadata": {},
          "execution_count": 39
=======
              "<matplotlib.axes._subplots.AxesSubplot at 0x7fa813621090>"
            ]
          },
          "metadata": {},
          "execution_count": 20
>>>>>>> 73846309baea899d7a66be95a13424488ccfe9cc
        },
        {
          "output_type": "display_data",
          "data": {
            "image/png": "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\n",
            "text/plain": [
              "<Figure size 432x288 with 1 Axes>"
            ]
          },
          "metadata": {
            "needs_background": "light"
          }
        }
      ]
    },
    {
      "cell_type": "markdown",
      "source": [
        "***Note:*** *Why does this one look so different from the one when I called .hist() above? It's not capped at 1500 and shows the value in currency form while the other one doesn't, I thought.*"
      ],
      "metadata": {
        "id": "KyhT9DNE7a_V"
      }
    },
    {
      "cell_type": "code",
      "source": [
        "housing[\"median_income\"].hist(bins=50, figsize=(10,7))"
      ],
      "metadata": {
        "colab": {
          "base_uri": "https://localhost:8080/",
          "height": 449
        },
        "id": "yTr0xvpl8A0j",
<<<<<<< HEAD
        "outputId": "d42f3818-0ea9-4a13-da0f-f0757f47b94e"
      },
      "execution_count": 45,
=======
        "outputId": "685349d2-22a1-415c-a180-9b9897d377fb"
      },
      "execution_count": 21,
>>>>>>> 73846309baea899d7a66be95a13424488ccfe9cc
      "outputs": [
        {
          "output_type": "execute_result",
          "data": {
            "text/plain": [
<<<<<<< HEAD
              "<matplotlib.axes._subplots.AxesSubplot at 0x7f4c4620cb50>"
            ]
          },
          "metadata": {},
          "execution_count": 45
=======
              "<matplotlib.axes._subplots.AxesSubplot at 0x7fa813f7be10>"
            ]
          },
          "metadata": {},
          "execution_count": 21
>>>>>>> 73846309baea899d7a66be95a13424488ccfe9cc
        },
        {
          "output_type": "display_data",
          "data": {
            "image/png": "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\n",
            "text/plain": [
              "<Figure size 720x504 with 1 Axes>"
            ]
          },
          "metadata": {
            "needs_background": "light"
          }
        }
      ]
    },
    {
      "cell_type": "markdown",
      "source": [
        "***Why tho.*** *Is it because I specified bins at 50? That just means each group of 50 gets a bar at their mean height, right? So why... This is going to take more googling than I have time for right now, let's move on.*"
      ],
      "metadata": {
        "id": "cCyYzjVb8OUy"
      }
    },
    {
      "cell_type": "code",
      "source": [
        "housing[\"median_income\"].hist()"
      ],
      "metadata": {
        "colab": {
          "base_uri": "https://localhost:8080/",
          "height": 285
        },
        "id": "aIwoKfie83wo",
<<<<<<< HEAD
        "outputId": "0c868b23-f028-4562-aa94-0fe5ebd33a18"
      },
      "execution_count": 46,
=======
        "outputId": "a11ac1e9-f34a-4a66-81e0-523ed62d8f41"
      },
      "execution_count": 22,
>>>>>>> 73846309baea899d7a66be95a13424488ccfe9cc
      "outputs": [
        {
          "output_type": "execute_result",
          "data": {
            "text/plain": [
<<<<<<< HEAD
              "<matplotlib.axes._subplots.AxesSubplot at 0x7f4c4662fc90>"
            ]
          },
          "metadata": {},
          "execution_count": 46
=======
              "<matplotlib.axes._subplots.AxesSubplot at 0x7fa81416c290>"
            ]
          },
          "metadata": {},
          "execution_count": 22
>>>>>>> 73846309baea899d7a66be95a13424488ccfe9cc
        },
        {
          "output_type": "display_data",
          "data": {
            "image/png": "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\n",
            "text/plain": [
              "<Figure size 432x288 with 1 Axes>"
            ]
          },
          "metadata": {
            "needs_background": "light"
          }
        }
      ]
    },
    {
      "cell_type": "markdown",
      "source": [
        "Looks like this distributes the data according to default bins. You can see most median incomes cluster around $20k-$50k, but some go far beyond $60k. I need to have a sufficient number of instances in my dataset for each stratum so the tratum's importance is not biased. This means I should not have too many strata, and each stratum shold be large enough.\n",
        "\n",
        "Next, the 2017 book shows this code to create an income category attribute by dividing the median income by 1.5 (to limit the number of income categories) and rounding up using `cell` (to have discrete categories), then merging all the categories greater than 5 into category 5:\n",
        "\n",
        "```\n",
        "housing[\"income_cat\"] = np.cell(housing[\"median_income\"] / 1.5)\n",
        "housing[\"income_cat\"].where(housing[\"income_cat\"] < 5, 5.0, inplace=True)\n",
        "```\n",
        "\n",
        "Here is how Geron's Github does it:"
      ],
      "metadata": {
        "id": "O1Rhb6dL30Gd"
      }
    },
    {
      "cell_type": "code",
      "source": [
        "housing[\"income_cat\"] = pd.cut(housing[\"median_income\"],\n",
        "                               bins=[0., 1.5, 3.0, 4.5, 6., np.inf],\n",
        "                               labels=[1, 2, 3, 4, 5])"
      ],
      "metadata": {
        "id": "DFXgX_Yx-JNf"
      },
<<<<<<< HEAD
      "execution_count": 47,
=======
      "execution_count": 23,
>>>>>>> 73846309baea899d7a66be95a13424488ccfe9cc
      "outputs": []
    },
    {
      "cell_type": "code",
      "source": [
        "housing[\"income_cat\"].value_counts()"
      ],
      "metadata": {
        "colab": {
          "base_uri": "https://localhost:8080/"
        },
        "id": "rUof5HTe-Py8",
<<<<<<< HEAD
        "outputId": "b7901980-dd0e-47fb-ce6a-ef9ae1a398d0"
      },
      "execution_count": 48,
=======
        "outputId": "b825e00f-a83c-44d4-c94c-f7cdff494449"
      },
      "execution_count": 24,
>>>>>>> 73846309baea899d7a66be95a13424488ccfe9cc
      "outputs": [
        {
          "output_type": "execute_result",
          "data": {
            "text/plain": [
              "3    7236\n",
              "2    6581\n",
              "4    3639\n",
              "5    2362\n",
              "1     822\n",
              "Name: income_cat, dtype: int64"
            ]
          },
          "metadata": {},
<<<<<<< HEAD
          "execution_count": 48
=======
          "execution_count": 24
>>>>>>> 73846309baea899d7a66be95a13424488ccfe9cc
        }
      ]
    },
    {
      "cell_type": "code",
      "source": [
        "housing[\"income_cat\"].hist()"
      ],
      "metadata": {
        "colab": {
          "base_uri": "https://localhost:8080/",
          "height": 285
        },
        "id": "nJacWkK4-Wpf",
<<<<<<< HEAD
        "outputId": "832779bc-5953-461c-b685-7ea6d71af3dd"
      },
      "execution_count": 49,
=======
        "outputId": "7e6cb8e5-e238-4db9-b64b-6d575214259d"
      },
      "execution_count": 25,
>>>>>>> 73846309baea899d7a66be95a13424488ccfe9cc
      "outputs": [
        {
          "output_type": "execute_result",
          "data": {
            "text/plain": [
<<<<<<< HEAD
              "<matplotlib.axes._subplots.AxesSubplot at 0x7f4c461ccc10>"
            ]
          },
          "metadata": {},
          "execution_count": 49
=======
              "<matplotlib.axes._subplots.AxesSubplot at 0x7fa8140075d0>"
            ]
          },
          "metadata": {},
          "execution_count": 25
>>>>>>> 73846309baea899d7a66be95a13424488ccfe9cc
        },
        {
          "output_type": "display_data",
          "data": {
            "image/png": "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\n",
            "text/plain": [
              "<Figure size 432x288 with 1 Axes>"
            ]
          },
          "metadata": {
            "needs_background": "light"
          }
        }
      ]
    },
    {
      "cell_type": "markdown",
      "source": [
        "Now I can do stratified smapling based on the income category. The book and Geron's Github both use Scikit-Learn's `StratifiedShuffleSplit` class to do this:"
      ],
      "metadata": {
        "id": "_Aw88qqY-f1q"
      }
    },
    {
      "cell_type": "code",
      "source": [
        "from sklearn.model_selection import StratifiedShuffleSplit\n",
        "\n",
        "split = StratifiedShuffleSplit(n_splits=1, test_size=0.2, random_state=42)\n",
        "for train_index, test_index in split.split(housing, housing[\"income_cat\"]):\n",
        "    strat_train_set = housing.loc[train_index]\n",
        "    strat_test_set = housing.loc[test_index]"
      ],
      "metadata": {
        "id": "06sYZJWx_MXs"
      },
<<<<<<< HEAD
      "execution_count": 50,
=======
      "execution_count": 26,
>>>>>>> 73846309baea899d7a66be95a13424488ccfe9cc
      "outputs": []
    },
    {
      "cell_type": "code",
      "source": [
        "# Look at income category proportions in the test set:\n",
        "\n",
        "strat_test_set[\"income_cat\"].value_counts() / len(strat_test_set)"
      ],
      "metadata": {
        "colab": {
          "base_uri": "https://localhost:8080/"
        },
        "id": "sRatZOkX_dw8",
<<<<<<< HEAD
        "outputId": "420d0e45-d51b-4ef7-b6ad-dbc5c6ba1fcd"
      },
      "execution_count": 51,
=======
        "outputId": "906271a9-c240-45f5-d852-88aecd78c080"
      },
      "execution_count": 27,
>>>>>>> 73846309baea899d7a66be95a13424488ccfe9cc
      "outputs": [
        {
          "output_type": "execute_result",
          "data": {
            "text/plain": [
              "3    0.350533\n",
              "2    0.318798\n",
              "4    0.176357\n",
              "5    0.114341\n",
              "1    0.039971\n",
              "Name: income_cat, dtype: float64"
            ]
          },
          "metadata": {},
<<<<<<< HEAD
          "execution_count": 51
=======
          "execution_count": 27
>>>>>>> 73846309baea899d7a66be95a13424488ccfe9cc
        }
      ]
    },
    {
<<<<<<< HEAD
=======
      "cell_type": "markdown",
      "source": [
        "***Note***: *Numbers 5 and 1 are slightly different than Geron's numbers, both from the book and the Github:*\n",
        "```\n",
        "5:   0.114583  \n",
        "1:   0.039729\n",
        "```\n",
        "*It looks like there are slightly more stratum in category 5 and less in category 1 than in Geron's example. Because they do not match, the %error is off for those two values in the Stratified column of the table below.*"
      ],
      "metadata": {
        "id": "XHGU9xYhY085"
      }
    },
    {
>>>>>>> 73846309baea899d7a66be95a13424488ccfe9cc
      "cell_type": "code",
      "source": [
        "# Look at the proportions in the overall dataset:\n",
        "\n",
        "housing[\"income_cat\"].value_counts() / len(housing)"
      ],
      "metadata": {
        "colab": {
          "base_uri": "https://localhost:8080/"
        },
        "id": "lPmxnS_-_6JQ",
<<<<<<< HEAD
        "outputId": "6d98c600-ab68-474b-85cf-484a2fddbb02"
      },
      "execution_count": 52,
=======
        "outputId": "fd39db01-2453-4401-a96c-a44299aab47a"
      },
      "execution_count": 28,
>>>>>>> 73846309baea899d7a66be95a13424488ccfe9cc
      "outputs": [
        {
          "output_type": "execute_result",
          "data": {
            "text/plain": [
              "3    0.350581\n",
              "2    0.318847\n",
              "4    0.176308\n",
              "5    0.114438\n",
              "1    0.039826\n",
              "Name: income_cat, dtype: float64"
            ]
          },
          "metadata": {},
<<<<<<< HEAD
          "execution_count": 52
=======
          "execution_count": 28
>>>>>>> 73846309baea899d7a66be95a13424488ccfe9cc
        }
      ]
    },
    {
      "cell_type": "code",
      "source": [
        "# Compare income category proporions in the overall dataset with the test set \n",
        "# using stratified sampling and the test set using random sampling:\n",
        "\n",
        "def income_cat_proportions(data):\n",
        "    return data[\"income_cat\"].value_counts() / len(data)\n",
        "\n",
        "train_set, test_set = train_test_split(housing, test_size=0.2, random_state=42)\n",
        "\n",
        "compare_props = pd.DataFrame({\n",
        "    \"Overall\": income_cat_proportions(housing),\n",
        "    \"Stratified\": income_cat_proportions(strat_test_set),\n",
        "    \"Random\": income_cat_proportions(test_set),\n",
        "}).sort_index()\n",
        "compare_props[\"Rand. %error\"] = 100 * compare_props[\"Random\"] / compare_props[\"Overall\"] - 100\n",
        "compare_props[\"Strat. %error\"] = 100 * compare_props[\"Stratified\"] / compare_props[\"Overall\"] - 100"
      ],
      "metadata": {
        "id": "16o9LLj1AO3k"
      },
<<<<<<< HEAD
      "execution_count": 59,
=======
      "execution_count": 29,
>>>>>>> 73846309baea899d7a66be95a13424488ccfe9cc
      "outputs": []
    },
    {
      "cell_type": "code",
      "source": [
        "compare_props"
      ],
      "metadata": {
        "colab": {
          "base_uri": "https://localhost:8080/",
          "height": 206
        },
        "id": "fi274KDCAcew",
<<<<<<< HEAD
        "outputId": "65b552b2-c56d-4588-aa51-cef09d994439"
      },
      "execution_count": 60,
=======
        "outputId": "7b75efd0-7bd6-4995-d307-2f0932f16e33"
      },
      "execution_count": 30,
>>>>>>> 73846309baea899d7a66be95a13424488ccfe9cc
      "outputs": [
        {
          "output_type": "execute_result",
          "data": {
            "text/html": [
              "\n",
<<<<<<< HEAD
              "  <div id=\"df-2dd134d3-7f51-4d27-9b4e-7f91351b0f98\">\n",
=======
              "  <div id=\"df-e99aa5a8-ab82-4189-838d-55c7b292cf50\">\n",
>>>>>>> 73846309baea899d7a66be95a13424488ccfe9cc
              "    <div class=\"colab-df-container\">\n",
              "      <div>\n",
              "<style scoped>\n",
              "    .dataframe tbody tr th:only-of-type {\n",
              "        vertical-align: middle;\n",
              "    }\n",
              "\n",
              "    .dataframe tbody tr th {\n",
              "        vertical-align: top;\n",
              "    }\n",
              "\n",
              "    .dataframe thead th {\n",
              "        text-align: right;\n",
              "    }\n",
              "</style>\n",
              "<table border=\"1\" class=\"dataframe\">\n",
              "  <thead>\n",
              "    <tr style=\"text-align: right;\">\n",
              "      <th></th>\n",
              "      <th>Overall</th>\n",
              "      <th>Stratified</th>\n",
              "      <th>Random</th>\n",
              "      <th>Rand. %error</th>\n",
              "      <th>Strat. %error</th>\n",
              "    </tr>\n",
              "  </thead>\n",
              "  <tbody>\n",
              "    <tr>\n",
              "      <th>1</th>\n",
              "      <td>0.039826</td>\n",
              "      <td>0.039971</td>\n",
              "      <td>0.040213</td>\n",
              "      <td>0.973236</td>\n",
              "      <td>0.364964</td>\n",
              "    </tr>\n",
              "    <tr>\n",
              "      <th>2</th>\n",
              "      <td>0.318847</td>\n",
              "      <td>0.318798</td>\n",
              "      <td>0.324370</td>\n",
              "      <td>1.732260</td>\n",
              "      <td>-0.015195</td>\n",
              "    </tr>\n",
              "    <tr>\n",
              "      <th>3</th>\n",
              "      <td>0.350581</td>\n",
              "      <td>0.350533</td>\n",
              "      <td>0.358527</td>\n",
              "      <td>2.266446</td>\n",
              "      <td>-0.013820</td>\n",
              "    </tr>\n",
              "    <tr>\n",
              "      <th>4</th>\n",
              "      <td>0.176308</td>\n",
              "      <td>0.176357</td>\n",
              "      <td>0.167393</td>\n",
              "      <td>-5.056334</td>\n",
              "      <td>0.027480</td>\n",
              "    </tr>\n",
              "    <tr>\n",
              "      <th>5</th>\n",
              "      <td>0.114438</td>\n",
              "      <td>0.114341</td>\n",
              "      <td>0.109496</td>\n",
              "      <td>-4.318374</td>\n",
              "      <td>-0.084674</td>\n",
              "    </tr>\n",
              "  </tbody>\n",
              "</table>\n",
              "</div>\n",
<<<<<<< HEAD
              "      <button class=\"colab-df-convert\" onclick=\"convertToInteractive('df-2dd134d3-7f51-4d27-9b4e-7f91351b0f98')\"\n",
=======
              "      <button class=\"colab-df-convert\" onclick=\"convertToInteractive('df-e99aa5a8-ab82-4189-838d-55c7b292cf50')\"\n",
>>>>>>> 73846309baea899d7a66be95a13424488ccfe9cc
              "              title=\"Convert this dataframe to an interactive table.\"\n",
              "              style=\"display:none;\">\n",
              "        \n",
              "  <svg xmlns=\"http://www.w3.org/2000/svg\" height=\"24px\"viewBox=\"0 0 24 24\"\n",
              "       width=\"24px\">\n",
              "    <path d=\"M0 0h24v24H0V0z\" fill=\"none\"/>\n",
              "    <path d=\"M18.56 5.44l.94 2.06.94-2.06 2.06-.94-2.06-.94-.94-2.06-.94 2.06-2.06.94zm-11 1L8.5 8.5l.94-2.06 2.06-.94-2.06-.94L8.5 2.5l-.94 2.06-2.06.94zm10 10l.94 2.06.94-2.06 2.06-.94-2.06-.94-.94-2.06-.94 2.06-2.06.94z\"/><path d=\"M17.41 7.96l-1.37-1.37c-.4-.4-.92-.59-1.43-.59-.52 0-1.04.2-1.43.59L10.3 9.45l-7.72 7.72c-.78.78-.78 2.05 0 2.83L4 21.41c.39.39.9.59 1.41.59.51 0 1.02-.2 1.41-.59l7.78-7.78 2.81-2.81c.8-.78.8-2.07 0-2.86zM5.41 20L4 18.59l7.72-7.72 1.47 1.35L5.41 20z\"/>\n",
              "  </svg>\n",
              "      </button>\n",
              "      \n",
              "  <style>\n",
              "    .colab-df-container {\n",
              "      display:flex;\n",
              "      flex-wrap:wrap;\n",
              "      gap: 12px;\n",
              "    }\n",
              "\n",
              "    .colab-df-convert {\n",
              "      background-color: #E8F0FE;\n",
              "      border: none;\n",
              "      border-radius: 50%;\n",
              "      cursor: pointer;\n",
              "      display: none;\n",
              "      fill: #1967D2;\n",
              "      height: 32px;\n",
              "      padding: 0 0 0 0;\n",
              "      width: 32px;\n",
              "    }\n",
              "\n",
              "    .colab-df-convert:hover {\n",
              "      background-color: #E2EBFA;\n",
              "      box-shadow: 0px 1px 2px rgba(60, 64, 67, 0.3), 0px 1px 3px 1px rgba(60, 64, 67, 0.15);\n",
              "      fill: #174EA6;\n",
              "    }\n",
              "\n",
              "    [theme=dark] .colab-df-convert {\n",
              "      background-color: #3B4455;\n",
              "      fill: #D2E3FC;\n",
              "    }\n",
              "\n",
              "    [theme=dark] .colab-df-convert:hover {\n",
              "      background-color: #434B5C;\n",
              "      box-shadow: 0px 1px 3px 1px rgba(0, 0, 0, 0.15);\n",
              "      filter: drop-shadow(0px 1px 2px rgba(0, 0, 0, 0.3));\n",
              "      fill: #FFFFFF;\n",
              "    }\n",
              "  </style>\n",
              "\n",
              "      <script>\n",
              "        const buttonEl =\n",
<<<<<<< HEAD
              "          document.querySelector('#df-2dd134d3-7f51-4d27-9b4e-7f91351b0f98 button.colab-df-convert');\n",
=======
              "          document.querySelector('#df-e99aa5a8-ab82-4189-838d-55c7b292cf50 button.colab-df-convert');\n",
>>>>>>> 73846309baea899d7a66be95a13424488ccfe9cc
              "        buttonEl.style.display =\n",
              "          google.colab.kernel.accessAllowed ? 'block' : 'none';\n",
              "\n",
              "        async function convertToInteractive(key) {\n",
<<<<<<< HEAD
              "          const element = document.querySelector('#df-2dd134d3-7f51-4d27-9b4e-7f91351b0f98');\n",
=======
              "          const element = document.querySelector('#df-e99aa5a8-ab82-4189-838d-55c7b292cf50');\n",
>>>>>>> 73846309baea899d7a66be95a13424488ccfe9cc
              "          const dataTable =\n",
              "            await google.colab.kernel.invokeFunction('convertToInteractive',\n",
              "                                                     [key], {});\n",
              "          if (!dataTable) return;\n",
              "\n",
              "          const docLinkHtml = 'Like what you see? Visit the ' +\n",
              "            '<a target=\"_blank\" href=https://colab.research.google.com/notebooks/data_table.ipynb>data table notebook</a>'\n",
              "            + ' to learn more about interactive tables.';\n",
              "          element.innerHTML = '';\n",
              "          dataTable['output_type'] = 'display_data';\n",
              "          await google.colab.output.renderOutput(dataTable, element);\n",
              "          const docLink = document.createElement('div');\n",
              "          docLink.innerHTML = docLinkHtml;\n",
              "          element.appendChild(docLink);\n",
              "        }\n",
              "      </script>\n",
              "    </div>\n",
              "  </div>\n",
              "  "
            ],
            "text/plain": [
              "    Overall  Stratified    Random  Rand. %error  Strat. %error\n",
              "1  0.039826    0.039971  0.040213      0.973236       0.364964\n",
              "2  0.318847    0.318798  0.324370      1.732260      -0.015195\n",
              "3  0.350581    0.350533  0.358527      2.266446      -0.013820\n",
              "4  0.176308    0.176357  0.167393     -5.056334       0.027480\n",
              "5  0.114438    0.114341  0.109496     -4.318374      -0.084674"
            ]
          },
          "metadata": {},
<<<<<<< HEAD
          "execution_count": 60
=======
          "execution_count": 30
>>>>>>> 73846309baea899d7a66be95a13424488ccfe9cc
        }
      ]
    },
    {
      "cell_type": "markdown",
      "source": [
<<<<<<< HEAD
        "***That looks different than the book AND the Github.*** *Why? I copied and pasted everything exactly. Until that table, everything matched down to the last number.*"
=======
        "*The table above does not match the example because the proportions for 1 and 5 are off in the Stratified test set. Could it be just a random shuffle? #1 has a standard error of 0.4, which seems high... But if the point is that they are much more clustered around 0 than the % error of the Random test set, that point is made. The Stratified test set is more representative of the Overall dataset than the Random one.*\n",
        "\n",
        "*I can't spend more time on this, I have to keep moving.*"
>>>>>>> 73846309baea899d7a66be95a13424488ccfe9cc
      ],
      "metadata": {
        "id": "83TMcnk-BC6Q"
      }
    },
    {
      "cell_type": "markdown",
      "source": [
<<<<<<< HEAD
        "Next I'd remove the `income_cat` attribute so the data is back to its original state. But I'm not going to do that yet because I now need to troubleshoot this weird thing happening with my data. If I don't do it now I'm sure it'll mess me up later on.\n",
        "\n",
        "Great."
=======
        "Next I'd remove the `income_cat` attribute so the data is back to its original state."
>>>>>>> 73846309baea899d7a66be95a13424488ccfe9cc
      ],
      "metadata": {
        "id": "CPhO_RRzBiLa"
      }
    },
    {
<<<<<<< HEAD
=======
      "cell_type": "markdown",
      "source": [
        "# Explore the Data"
      ],
      "metadata": {
        "id": "ck2cJ26gi1Px"
      }
    },
    {
      "cell_type": "markdown",
      "source": [
        "Placeholder: I continued in my main notebook with visualizations all the way up to plotting the standard correlation coefficients of each attribute."
      ],
      "metadata": {
        "id": "8dunRREzi-HZ"
      }
    },
    {
>>>>>>> 73846309baea899d7a66be95a13424488ccfe9cc
      "cell_type": "code",
      "source": [
        ""
      ],
      "metadata": {
        "id": "E48pxtN-AfF0"
      },
<<<<<<< HEAD
      "execution_count": null,
      "outputs": []
>>>>>>> 0401d4fb7eded924705ee240c2a43c62906dd467
=======
      "execution_count": 30,
      "outputs": []
>>>>>>> 73846309baea899d7a66be95a13424488ccfe9cc
    }
  ]
}